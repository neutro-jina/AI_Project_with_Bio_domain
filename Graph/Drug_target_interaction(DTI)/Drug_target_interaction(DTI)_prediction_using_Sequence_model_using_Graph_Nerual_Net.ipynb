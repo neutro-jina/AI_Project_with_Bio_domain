{
  "cells": [
    {
      "cell_type": "markdown",
      "metadata": {
        "id": "view-in-github",
        "colab_type": "text"
      },
      "source": [
        "<a href=\"https://colab.research.google.com/github/neutro-jina/project/blob/main/Drug_target_interaction(DTI)_prediction_using_Sequence_model_using_Graph_Nerual_Net.ipynb\" target=\"_parent\"><img src=\"https://colab.research.google.com/assets/colab-badge.svg\" alt=\"Open In Colab\"/></a>"
      ]
    },
    {
      "cell_type": "code",
      "execution_count": null,
      "metadata": {
        "colab": {
          "base_uri": "https://localhost:8080/"
        },
        "id": "3x4FvEuY9msK",
        "outputId": "cc9039dc-f237-4a57-b216-c63bdc0e0a0c"
      },
      "outputs": [
        {
          "name": "stdout",
          "output_type": "stream",
          "text": [
            "Mounted at /content/drive\n"
          ]
        }
      ],
      "source": [
        "### 공유 폴더 내 드라이브에 바로가기 추가하기\n",
        "\n",
        "# 드라이브 마운트 하기\n",
        "from google.colab import drive\n",
        "drive.mount('/content/drive')"
      ]
    },
    {
      "cell_type": "code",
      "execution_count": null,
      "metadata": {
        "colab": {
          "base_uri": "https://localhost:8080/",
          "height": 1000
        },
        "id": "k76MTtnmzbWT",
        "outputId": "40c8d5f9-1c74-46f4-aa1c-3324c05fd347"
      },
      "outputs": [
        {
          "name": "stdout",
          "output_type": "stream",
          "text": [
            "Looking in indexes: https://pypi.org/simple, https://us-python.pkg.dev/colab-wheels/public/simple/\n",
            "Collecting rdkit-pypi\n",
            "  Downloading rdkit_pypi-2022.9.1-cp37-cp37m-manylinux_2_17_x86_64.manylinux2014_x86_64.whl (29.5 MB)\n",
            "\u001b[K     |████████████████████████████████| 29.5 MB 343 kB/s \n",
            "\u001b[?25hRequirement already satisfied: Pillow in /usr/local/lib/python3.7/dist-packages (from rdkit-pypi) (7.1.2)\n",
            "Requirement already satisfied: numpy in /usr/local/lib/python3.7/dist-packages (from rdkit-pypi) (1.21.6)\n",
            "Installing collected packages: rdkit-pypi\n",
            "Successfully installed rdkit-pypi-2022.9.1\n",
            "Looking in indexes: https://pypi.org/simple, https://us-python.pkg.dev/colab-wheels/public/simple/\n",
            "Collecting lifelines\n",
            "  Downloading lifelines-0.27.3-py3-none-any.whl (349 kB)\n",
            "\u001b[K     |████████████████████████████████| 349 kB 4.7 MB/s \n",
            "\u001b[?25hRequirement already satisfied: pandas>=1.0.0 in /usr/local/lib/python3.7/dist-packages (from lifelines) (1.3.5)\n",
            "Requirement already satisfied: matplotlib>=3.0 in /usr/local/lib/python3.7/dist-packages (from lifelines) (3.2.2)\n",
            "Collecting formulaic>=0.2.2\n",
            "  Downloading formulaic-0.5.2-py3-none-any.whl (77 kB)\n",
            "\u001b[K     |████████████████████████████████| 77 kB 5.4 MB/s \n",
            "\u001b[?25hRequirement already satisfied: numpy>=1.14.0 in /usr/local/lib/python3.7/dist-packages (from lifelines) (1.21.6)\n",
            "Requirement already satisfied: scipy>=1.2.0 in /usr/local/lib/python3.7/dist-packages (from lifelines) (1.7.3)\n",
            "Requirement already satisfied: autograd>=1.3 in /usr/local/lib/python3.7/dist-packages (from lifelines) (1.5)\n",
            "Collecting autograd-gamma>=0.3\n",
            "  Downloading autograd-gamma-0.5.0.tar.gz (4.0 kB)\n",
            "Requirement already satisfied: future>=0.15.2 in /usr/local/lib/python3.7/dist-packages (from autograd>=1.3->lifelines) (0.16.0)\n",
            "Collecting graphlib-backport>=1.0.0\n",
            "  Downloading graphlib_backport-1.0.3-py3-none-any.whl (5.1 kB)\n",
            "Collecting interface-meta>=1.2.0\n",
            "  Downloading interface_meta-1.3.0-py3-none-any.whl (14 kB)\n",
            "Collecting typing-extensions>=4.2.0\n",
            "  Downloading typing_extensions-4.4.0-py3-none-any.whl (26 kB)\n",
            "Requirement already satisfied: cached-property>=1.3.0 in /usr/local/lib/python3.7/dist-packages (from formulaic>=0.2.2->lifelines) (1.5.2)\n",
            "Requirement already satisfied: astor>=0.8 in /usr/local/lib/python3.7/dist-packages (from formulaic>=0.2.2->lifelines) (0.8.1)\n",
            "Requirement already satisfied: wrapt>=1.0 in /usr/local/lib/python3.7/dist-packages (from formulaic>=0.2.2->lifelines) (1.14.1)\n",
            "Requirement already satisfied: kiwisolver>=1.0.1 in /usr/local/lib/python3.7/dist-packages (from matplotlib>=3.0->lifelines) (1.4.4)\n",
            "Requirement already satisfied: pyparsing!=2.0.4,!=2.1.2,!=2.1.6,>=2.0.1 in /usr/local/lib/python3.7/dist-packages (from matplotlib>=3.0->lifelines) (3.0.9)\n",
            "Requirement already satisfied: cycler>=0.10 in /usr/local/lib/python3.7/dist-packages (from matplotlib>=3.0->lifelines) (0.11.0)\n",
            "Requirement already satisfied: python-dateutil>=2.1 in /usr/local/lib/python3.7/dist-packages (from matplotlib>=3.0->lifelines) (2.8.2)\n",
            "Requirement already satisfied: pytz>=2017.3 in /usr/local/lib/python3.7/dist-packages (from pandas>=1.0.0->lifelines) (2022.6)\n",
            "Requirement already satisfied: six>=1.5 in /usr/local/lib/python3.7/dist-packages (from python-dateutil>=2.1->matplotlib>=3.0->lifelines) (1.15.0)\n",
            "Building wheels for collected packages: autograd-gamma\n",
            "  Building wheel for autograd-gamma (setup.py) ... \u001b[?25l\u001b[?25hdone\n",
            "  Created wheel for autograd-gamma: filename=autograd_gamma-0.5.0-py3-none-any.whl size=4049 sha256=9aab1fe127c41b166c6abf731f70261d4cb45e99347682f8a8cbeb9e2af2a5e5\n",
            "  Stored in directory: /root/.cache/pip/wheels/9f/01/ee/1331593abb5725ff7d8c1333aee93a50a1c29d6ddda9665c9f\n",
            "Successfully built autograd-gamma\n",
            "Installing collected packages: typing-extensions, interface-meta, graphlib-backport, formulaic, autograd-gamma, lifelines\n",
            "  Attempting uninstall: typing-extensions\n",
            "    Found existing installation: typing-extensions 4.1.1\n",
            "    Uninstalling typing-extensions-4.1.1:\n",
            "      Successfully uninstalled typing-extensions-4.1.1\n",
            "\u001b[31mERROR: pip's dependency resolver does not currently take into account all the packages that are installed. This behaviour is the source of the following dependency conflicts.\n",
            "thinc 8.1.5 requires typing-extensions<4.2.0,>=3.7.4.1; python_version < \"3.8\", but you have typing-extensions 4.4.0 which is incompatible.\n",
            "spacy 3.4.2 requires typing-extensions<4.2.0,>=3.7.4; python_version < \"3.8\", but you have typing-extensions 4.4.0 which is incompatible.\n",
            "confection 0.0.3 requires typing-extensions<4.2.0,>=3.7.4.1; python_version < \"3.8\", but you have typing-extensions 4.4.0 which is incompatible.\u001b[0m\n",
            "Successfully installed autograd-gamma-0.5.0 formulaic-0.5.2 graphlib-backport-1.0.3 interface-meta-1.3.0 lifelines-0.27.3 typing-extensions-4.4.0\n",
            "Looking in indexes: https://pypi.org/simple, https://us-python.pkg.dev/colab-wheels/public/simple/\n",
            "Looking in links: https://data.dgl.ai/wheels/repo.html\n",
            "Collecting dgl-cu111\n",
            "  Downloading https://data.dgl.ai/wheels/dgl_cu111-0.9.1.post1-cp37-cp37m-manylinux1_x86_64.whl (269.3 MB)\n",
            "\u001b[K     |████████████████████████████████| 269.3 MB 10 kB/s \n",
            "\u001b[?25hCollecting dglgo\n",
            "  Downloading dglgo-0.0.2-py3-none-any.whl (63 kB)\n",
            "\u001b[K     |████████████████████████████████| 63 kB 1.8 MB/s \n",
            "\u001b[?25hCollecting psutil>=5.8.0\n",
            "  Downloading psutil-5.9.4-cp36-abi3-manylinux_2_12_x86_64.manylinux2010_x86_64.manylinux_2_17_x86_64.manylinux2014_x86_64.whl (280 kB)\n",
            "\u001b[K     |████████████████████████████████| 280 kB 10.2 MB/s \n",
            "\u001b[?25hRequirement already satisfied: scipy>=1.1.0 in /usr/local/lib/python3.7/dist-packages (from dgl-cu111) (1.7.3)\n",
            "Requirement already satisfied: networkx>=2.1 in /usr/local/lib/python3.7/dist-packages (from dgl-cu111) (2.6.3)\n",
            "Requirement already satisfied: requests>=2.19.0 in /usr/local/lib/python3.7/dist-packages (from dgl-cu111) (2.23.0)\n",
            "Requirement already satisfied: numpy>=1.14.0 in /usr/local/lib/python3.7/dist-packages (from dgl-cu111) (1.21.6)\n",
            "Requirement already satisfied: tqdm in /usr/local/lib/python3.7/dist-packages (from dgl-cu111) (4.64.1)\n",
            "Requirement already satisfied: certifi>=2017.4.17 in /usr/local/lib/python3.7/dist-packages (from requests>=2.19.0->dgl-cu111) (2022.9.24)\n",
            "Requirement already satisfied: idna<3,>=2.5 in /usr/local/lib/python3.7/dist-packages (from requests>=2.19.0->dgl-cu111) (2.10)\n",
            "Requirement already satisfied: urllib3!=1.25.0,!=1.25.1,<1.26,>=1.21.1 in /usr/local/lib/python3.7/dist-packages (from requests>=2.19.0->dgl-cu111) (1.24.3)\n",
            "Requirement already satisfied: chardet<4,>=3.0.2 in /usr/local/lib/python3.7/dist-packages (from requests>=2.19.0->dgl-cu111) (3.0.4)\n",
            "Requirement already satisfied: scikit-learn>=0.20.0 in /usr/local/lib/python3.7/dist-packages (from dglgo) (1.0.2)\n",
            "Requirement already satisfied: pydantic>=1.9.0 in /usr/local/lib/python3.7/dist-packages (from dglgo) (1.10.2)\n",
            "Requirement already satisfied: typer>=0.4.0 in /usr/local/lib/python3.7/dist-packages (from dglgo) (0.4.2)\n",
            "Collecting ruamel.yaml>=0.17.20\n",
            "  Downloading ruamel.yaml-0.17.21-py3-none-any.whl (109 kB)\n",
            "\u001b[K     |████████████████████████████████| 109 kB 69.0 MB/s \n",
            "\u001b[?25hRequirement already satisfied: rdkit-pypi in /usr/local/lib/python3.7/dist-packages (from dglgo) (2022.9.1)\n",
            "Requirement already satisfied: PyYAML>=5.1 in /usr/local/lib/python3.7/dist-packages (from dglgo) (6.0)\n",
            "Collecting autopep8>=1.6.0\n",
            "  Downloading autopep8-2.0.0-py2.py3-none-any.whl (45 kB)\n",
            "\u001b[K     |████████████████████████████████| 45 kB 3.8 MB/s \n",
            "\u001b[?25hCollecting isort>=5.10.1\n",
            "  Downloading isort-5.10.1-py3-none-any.whl (103 kB)\n",
            "\u001b[K     |████████████████████████████████| 103 kB 69.0 MB/s \n",
            "\u001b[?25hCollecting numpydoc>=1.1.0\n",
            "  Downloading numpydoc-1.5.0-py3-none-any.whl (52 kB)\n",
            "\u001b[K     |████████████████████████████████| 52 kB 1.5 MB/s \n",
            "\u001b[?25hCollecting ogb>=1.3.3\n",
            "  Downloading ogb-1.3.5-py3-none-any.whl (78 kB)\n",
            "\u001b[K     |████████████████████████████████| 78 kB 9.4 MB/s \n",
            "\u001b[?25hRequirement already satisfied: tomli in /usr/local/lib/python3.7/dist-packages (from autopep8>=1.6.0->dglgo) (2.0.1)\n",
            "Collecting pycodestyle>=2.9.1\n",
            "  Downloading pycodestyle-2.9.1-py2.py3-none-any.whl (41 kB)\n",
            "\u001b[K     |████████████████████████████████| 41 kB 580 kB/s \n",
            "\u001b[?25hCollecting sphinx>=4.2\n",
            "  Downloading sphinx-5.3.0-py3-none-any.whl (3.2 MB)\n",
            "\u001b[K     |████████████████████████████████| 3.2 MB 64.3 MB/s \n",
            "\u001b[?25hRequirement already satisfied: Jinja2>=2.10 in /usr/local/lib/python3.7/dist-packages (from numpydoc>=1.1.0->dglgo) (2.11.3)\n",
            "Requirement already satisfied: MarkupSafe>=0.23 in /usr/local/lib/python3.7/dist-packages (from Jinja2>=2.10->numpydoc>=1.1.0->dglgo) (2.0.1)\n",
            "Requirement already satisfied: pandas>=0.24.0 in /usr/local/lib/python3.7/dist-packages (from ogb>=1.3.3->dglgo) (1.3.5)\n",
            "Collecting outdated>=0.2.0\n",
            "  Downloading outdated-0.2.2-py2.py3-none-any.whl (7.5 kB)\n",
            "Requirement already satisfied: six>=1.12.0 in /usr/local/lib/python3.7/dist-packages (from ogb>=1.3.3->dglgo) (1.15.0)\n",
            "Requirement already satisfied: torch>=1.6.0 in /usr/local/lib/python3.7/dist-packages (from ogb>=1.3.3->dglgo) (1.12.1+cu113)\n",
            "Requirement already satisfied: setuptools>=44 in /usr/local/lib/python3.7/dist-packages (from outdated>=0.2.0->ogb>=1.3.3->dglgo) (57.4.0)\n",
            "Collecting littleutils\n",
            "  Downloading littleutils-0.2.2.tar.gz (6.6 kB)\n",
            "Requirement already satisfied: pytz>=2017.3 in /usr/local/lib/python3.7/dist-packages (from pandas>=0.24.0->ogb>=1.3.3->dglgo) (2022.6)\n",
            "Requirement already satisfied: python-dateutil>=2.7.3 in /usr/local/lib/python3.7/dist-packages (from pandas>=0.24.0->ogb>=1.3.3->dglgo) (2.8.2)\n",
            "Requirement already satisfied: typing-extensions>=4.1.0 in /usr/local/lib/python3.7/dist-packages (from pydantic>=1.9.0->dglgo) (4.4.0)\n",
            "Collecting ruamel.yaml.clib>=0.2.6\n",
            "  Downloading ruamel.yaml.clib-0.2.7-cp37-cp37m-manylinux_2_17_x86_64.manylinux2014_x86_64.manylinux_2_24_x86_64.whl (500 kB)\n",
            "\u001b[K     |████████████████████████████████| 500 kB 66.2 MB/s \n",
            "\u001b[?25hRequirement already satisfied: joblib>=0.11 in /usr/local/lib/python3.7/dist-packages (from scikit-learn>=0.20.0->dglgo) (1.2.0)\n",
            "Requirement already satisfied: threadpoolctl>=2.0.0 in /usr/local/lib/python3.7/dist-packages (from scikit-learn>=0.20.0->dglgo) (3.1.0)\n",
            "Requirement already satisfied: snowballstemmer>=2.0 in /usr/local/lib/python3.7/dist-packages (from sphinx>=4.2->numpydoc>=1.1.0->dglgo) (2.2.0)\n",
            "Collecting sphinxcontrib-htmlhelp>=2.0.0\n",
            "  Downloading sphinxcontrib_htmlhelp-2.0.0-py2.py3-none-any.whl (100 kB)\n",
            "\u001b[K     |████████████████████████████████| 100 kB 12.2 MB/s \n",
            "\u001b[?25hRequirement already satisfied: sphinxcontrib-serializinghtml>=1.1.5 in /usr/local/lib/python3.7/dist-packages (from sphinx>=4.2->numpydoc>=1.1.0->dglgo) (1.1.5)\n",
            "Collecting Jinja2>=2.10\n",
            "  Downloading Jinja2-3.1.2-py3-none-any.whl (133 kB)\n",
            "\u001b[K     |████████████████████████████████| 133 kB 64.8 MB/s \n",
            "\u001b[?25hCollecting sphinxcontrib-applehelp\n",
            "  Downloading sphinxcontrib_applehelp-1.0.2-py2.py3-none-any.whl (121 kB)\n",
            "\u001b[K     |████████████████████████████████| 121 kB 74.6 MB/s \n",
            "\u001b[?25hCollecting sphinxcontrib-jsmath\n",
            "  Downloading sphinxcontrib_jsmath-1.0.1-py2.py3-none-any.whl (5.1 kB)\n",
            "Requirement already satisfied: packaging>=21.0 in /usr/local/lib/python3.7/dist-packages (from sphinx>=4.2->numpydoc>=1.1.0->dglgo) (21.3)\n",
            "Collecting sphinxcontrib-devhelp\n",
            "  Downloading sphinxcontrib_devhelp-1.0.2-py2.py3-none-any.whl (84 kB)\n",
            "\u001b[K     |████████████████████████████████| 84 kB 4.6 MB/s \n",
            "\u001b[?25hCollecting sphinxcontrib-qthelp\n",
            "  Downloading sphinxcontrib_qthelp-1.0.3-py2.py3-none-any.whl (90 kB)\n",
            "\u001b[K     |████████████████████████████████| 90 kB 10.1 MB/s \n",
            "\u001b[?25hRequirement already satisfied: babel>=2.9 in /usr/local/lib/python3.7/dist-packages (from sphinx>=4.2->numpydoc>=1.1.0->dglgo) (2.11.0)\n",
            "Collecting Pygments>=2.12\n",
            "  Downloading Pygments-2.13.0-py3-none-any.whl (1.1 MB)\n",
            "\u001b[K     |████████████████████████████████| 1.1 MB 62.3 MB/s \n",
            "\u001b[?25hRequirement already satisfied: imagesize>=1.3 in /usr/local/lib/python3.7/dist-packages (from sphinx>=4.2->numpydoc>=1.1.0->dglgo) (1.4.1)\n",
            "Requirement already satisfied: docutils<0.20,>=0.14 in /usr/local/lib/python3.7/dist-packages (from sphinx>=4.2->numpydoc>=1.1.0->dglgo) (0.17.1)\n",
            "Requirement already satisfied: importlib-metadata>=4.8 in /usr/local/lib/python3.7/dist-packages (from sphinx>=4.2->numpydoc>=1.1.0->dglgo) (4.13.0)\n",
            "Requirement already satisfied: alabaster<0.8,>=0.7 in /usr/local/lib/python3.7/dist-packages (from sphinx>=4.2->numpydoc>=1.1.0->dglgo) (0.7.12)\n",
            "Requirement already satisfied: zipp>=0.5 in /usr/local/lib/python3.7/dist-packages (from importlib-metadata>=4.8->sphinx>=4.2->numpydoc>=1.1.0->dglgo) (3.10.0)\n",
            "Requirement already satisfied: pyparsing!=3.0.5,>=2.0.2 in /usr/local/lib/python3.7/dist-packages (from packaging>=21.0->sphinx>=4.2->numpydoc>=1.1.0->dglgo) (3.0.9)\n",
            "Requirement already satisfied: click<9.0.0,>=7.1.1 in /usr/local/lib/python3.7/dist-packages (from typer>=0.4.0->dglgo) (7.1.2)\n",
            "Requirement already satisfied: Pillow in /usr/local/lib/python3.7/dist-packages (from rdkit-pypi->dglgo) (7.1.2)\n",
            "Building wheels for collected packages: littleutils\n",
            "  Building wheel for littleutils (setup.py) ... \u001b[?25l\u001b[?25hdone\n",
            "  Created wheel for littleutils: filename=littleutils-0.2.2-py3-none-any.whl size=7049 sha256=e2c0e4f6da8850a0dd091d591f82ef2d5ef272adf115d913552fe24345ef4913\n",
            "  Stored in directory: /root/.cache/pip/wheels/d6/64/cd/32819b511a488e4993f2fab909a95330289c3f4e0f6ef4676d\n",
            "Successfully built littleutils\n",
            "Installing collected packages: sphinxcontrib-qthelp, sphinxcontrib-jsmath, sphinxcontrib-htmlhelp, sphinxcontrib-devhelp, sphinxcontrib-applehelp, Pygments, littleutils, Jinja2, sphinx, ruamel.yaml.clib, pycodestyle, outdated, ruamel.yaml, psutil, ogb, numpydoc, isort, autopep8, dglgo, dgl-cu111\n",
            "  Attempting uninstall: Pygments\n",
            "    Found existing installation: Pygments 2.6.1\n",
            "    Uninstalling Pygments-2.6.1:\n",
            "      Successfully uninstalled Pygments-2.6.1\n",
            "  Attempting uninstall: Jinja2\n",
            "    Found existing installation: Jinja2 2.11.3\n",
            "    Uninstalling Jinja2-2.11.3:\n",
            "      Successfully uninstalled Jinja2-2.11.3\n",
            "  Attempting uninstall: sphinx\n",
            "    Found existing installation: Sphinx 1.8.6\n",
            "    Uninstalling Sphinx-1.8.6:\n",
            "      Successfully uninstalled Sphinx-1.8.6\n",
            "  Attempting uninstall: psutil\n",
            "    Found existing installation: psutil 5.4.8\n",
            "    Uninstalling psutil-5.4.8:\n",
            "      Successfully uninstalled psutil-5.4.8\n",
            "\u001b[31mERROR: pip's dependency resolver does not currently take into account all the packages that are installed. This behaviour is the source of the following dependency conflicts.\n",
            "ipython 7.9.0 requires jedi>=0.10, which is not installed.\n",
            "spacy 3.4.2 requires typing-extensions<4.2.0,>=3.7.4; python_version < \"3.8\", but you have typing-extensions 4.4.0 which is incompatible.\n",
            "notebook 5.7.16 requires jinja2<=3.0.0, but you have jinja2 3.1.2 which is incompatible.\n",
            "flask 1.1.4 requires Jinja2<3.0,>=2.10.1, but you have jinja2 3.1.2 which is incompatible.\u001b[0m\n",
            "Successfully installed Jinja2-3.1.2 Pygments-2.13.0 autopep8-2.0.0 dgl-cu111-0.9.1.post1 dglgo-0.0.2 isort-5.10.1 littleutils-0.2.2 numpydoc-1.5.0 ogb-1.3.5 outdated-0.2.2 psutil-5.9.4 pycodestyle-2.9.1 ruamel.yaml-0.17.21 ruamel.yaml.clib-0.2.7 sphinx-5.3.0 sphinxcontrib-applehelp-1.0.2 sphinxcontrib-devhelp-1.0.2 sphinxcontrib-htmlhelp-2.0.0 sphinxcontrib-jsmath-1.0.1 sphinxcontrib-qthelp-1.0.3\n"
          ]
        },
        {
          "data": {
            "application/vnd.colab-display-data+json": {
              "pip_warning": {
                "packages": [
                  "psutil",
                  "pygments",
                  "sphinxcontrib"
                ]
              }
            }
          },
          "metadata": {},
          "output_type": "display_data"
        },
        {
          "name": "stdout",
          "output_type": "stream",
          "text": [
            "Looking in indexes: https://pypi.org/simple, https://us-python.pkg.dev/colab-wheels/public/simple/\n",
            "Collecting dgllife\n",
            "  Downloading dgllife-0.3.0-py3-none-any.whl (220 kB)\n",
            "\u001b[?25l\r\u001b[K     |█▌                              | 10 kB 33.2 MB/s eta 0:00:01\r\u001b[K     |███                             | 20 kB 7.1 MB/s eta 0:00:01\r\u001b[K     |████▌                           | 30 kB 10.2 MB/s eta 0:00:01\r\u001b[K     |██████                          | 40 kB 3.8 MB/s eta 0:00:01\r\u001b[K     |███████▍                        | 51 kB 4.1 MB/s eta 0:00:01\r\u001b[K     |█████████                       | 61 kB 4.9 MB/s eta 0:00:01\r\u001b[K     |██████████▍                     | 71 kB 5.0 MB/s eta 0:00:01\r\u001b[K     |████████████                    | 81 kB 5.6 MB/s eta 0:00:01\r\u001b[K     |█████████████▍                  | 92 kB 6.0 MB/s eta 0:00:01\r\u001b[K     |██████████████▉                 | 102 kB 4.8 MB/s eta 0:00:01\r\u001b[K     |████████████████▍               | 112 kB 4.8 MB/s eta 0:00:01\r\u001b[K     |█████████████████▉              | 122 kB 4.8 MB/s eta 0:00:01\r\u001b[K     |███████████████████▎            | 133 kB 4.8 MB/s eta 0:00:01\r\u001b[K     |████████████████████▉           | 143 kB 4.8 MB/s eta 0:00:01\r\u001b[K     |██████████████████████▎         | 153 kB 4.8 MB/s eta 0:00:01\r\u001b[K     |███████████████████████▉        | 163 kB 4.8 MB/s eta 0:00:01\r\u001b[K     |█████████████████████████▎      | 174 kB 4.8 MB/s eta 0:00:01\r\u001b[K     |██████████████████████████▊     | 184 kB 4.8 MB/s eta 0:00:01\r\u001b[K     |████████████████████████████▎   | 194 kB 4.8 MB/s eta 0:00:01\r\u001b[K     |█████████████████████████████▊  | 204 kB 4.8 MB/s eta 0:00:01\r\u001b[K     |███████████████████████████████▎| 215 kB 4.8 MB/s eta 0:00:01\r\u001b[K     |████████████████████████████████| 220 kB 4.8 MB/s \n",
            "\u001b[?25hRequirement already satisfied: joblib in /usr/local/lib/python3.7/dist-packages (from dgllife) (1.2.0)\n",
            "Requirement already satisfied: requests>=2.22.0 in /usr/local/lib/python3.7/dist-packages (from dgllife) (2.23.0)\n",
            "Collecting scikit-learn<1.0,>=0.22.2\n",
            "  Downloading scikit_learn-0.24.2-cp37-cp37m-manylinux2010_x86_64.whl (22.3 MB)\n",
            "\u001b[K     |████████████████████████████████| 22.3 MB 63.7 MB/s \n",
            "\u001b[?25hRequirement already satisfied: networkx>=2.1 in /usr/local/lib/python3.7/dist-packages (from dgllife) (2.6.3)\n",
            "Requirement already satisfied: hyperopt in /usr/local/lib/python3.7/dist-packages (from dgllife) (0.1.2)\n",
            "Requirement already satisfied: pandas in /usr/local/lib/python3.7/dist-packages (from dgllife) (1.3.5)\n",
            "Requirement already satisfied: tqdm in /usr/local/lib/python3.7/dist-packages (from dgllife) (4.64.1)\n",
            "Requirement already satisfied: scipy>=1.1.0 in /usr/local/lib/python3.7/dist-packages (from dgllife) (1.7.3)\n",
            "Requirement already satisfied: numpy>=1.14.0 in /usr/local/lib/python3.7/dist-packages (from dgllife) (1.21.6)\n",
            "Requirement already satisfied: certifi>=2017.4.17 in /usr/local/lib/python3.7/dist-packages (from requests>=2.22.0->dgllife) (2022.9.24)\n",
            "Requirement already satisfied: chardet<4,>=3.0.2 in /usr/local/lib/python3.7/dist-packages (from requests>=2.22.0->dgllife) (3.0.4)\n",
            "Requirement already satisfied: urllib3!=1.25.0,!=1.25.1,<1.26,>=1.21.1 in /usr/local/lib/python3.7/dist-packages (from requests>=2.22.0->dgllife) (1.24.3)\n",
            "Requirement already satisfied: idna<3,>=2.5 in /usr/local/lib/python3.7/dist-packages (from requests>=2.22.0->dgllife) (2.10)\n",
            "Requirement already satisfied: threadpoolctl>=2.0.0 in /usr/local/lib/python3.7/dist-packages (from scikit-learn<1.0,>=0.22.2->dgllife) (3.1.0)\n",
            "Requirement already satisfied: future in /usr/local/lib/python3.7/dist-packages (from hyperopt->dgllife) (0.16.0)\n",
            "Requirement already satisfied: pymongo in /usr/local/lib/python3.7/dist-packages (from hyperopt->dgllife) (4.3.2)\n",
            "Requirement already satisfied: six in /usr/local/lib/python3.7/dist-packages (from hyperopt->dgllife) (1.15.0)\n",
            "Requirement already satisfied: pytz>=2017.3 in /usr/local/lib/python3.7/dist-packages (from pandas->dgllife) (2022.6)\n",
            "Requirement already satisfied: python-dateutil>=2.7.3 in /usr/local/lib/python3.7/dist-packages (from pandas->dgllife) (2.8.2)\n",
            "Requirement already satisfied: dnspython<3.0.0,>=1.16.0 in /usr/local/lib/python3.7/dist-packages (from pymongo->hyperopt->dgllife) (2.2.1)\n",
            "Installing collected packages: scikit-learn, dgllife\n",
            "  Attempting uninstall: scikit-learn\n",
            "    Found existing installation: scikit-learn 1.0.2\n",
            "    Uninstalling scikit-learn-1.0.2:\n",
            "      Successfully uninstalled scikit-learn-1.0.2\n",
            "\u001b[31mERROR: pip's dependency resolver does not currently take into account all the packages that are installed. This behaviour is the source of the following dependency conflicts.\n",
            "yellowbrick 1.5 requires scikit-learn>=1.0.0, but you have scikit-learn 0.24.2 which is incompatible.\u001b[0m\n",
            "Successfully installed dgllife-0.3.0 scikit-learn-0.24.2\n",
            "Looking in indexes: https://pypi.org/simple, https://us-python.pkg.dev/colab-wheels/public/simple/\n",
            "Collecting PyTDC\n",
            "  Downloading PyTDC-0.3.8.tar.gz (100 kB)\n",
            "\u001b[K     |████████████████████████████████| 100 kB 4.2 MB/s \n",
            "\u001b[?25hRequirement already satisfied: rdkit-pypi in /usr/local/lib/python3.7/dist-packages (from PyTDC) (2022.9.1)\n",
            "Collecting fuzzywuzzy\n",
            "  Downloading fuzzywuzzy-0.18.0-py2.py3-none-any.whl (18 kB)\n",
            "Requirement already satisfied: numpy in /usr/local/lib/python3.7/dist-packages (from PyTDC) (1.21.6)\n",
            "Requirement already satisfied: pandas in /usr/local/lib/python3.7/dist-packages (from PyTDC) (1.3.5)\n",
            "Requirement already satisfied: tqdm in /usr/local/lib/python3.7/dist-packages (from PyTDC) (4.64.1)\n",
            "Requirement already satisfied: scikit-learn in /usr/local/lib/python3.7/dist-packages (from PyTDC) (0.24.2)\n",
            "Requirement already satisfied: seaborn in /usr/local/lib/python3.7/dist-packages (from PyTDC) (0.11.2)\n",
            "Requirement already satisfied: requests in /usr/local/lib/python3.7/dist-packages (from PyTDC) (2.23.0)\n",
            "Requirement already satisfied: python-dateutil>=2.7.3 in /usr/local/lib/python3.7/dist-packages (from pandas->PyTDC) (2.8.2)\n",
            "Requirement already satisfied: pytz>=2017.3 in /usr/local/lib/python3.7/dist-packages (from pandas->PyTDC) (2022.6)\n",
            "Requirement already satisfied: six>=1.5 in /usr/local/lib/python3.7/dist-packages (from python-dateutil>=2.7.3->pandas->PyTDC) (1.15.0)\n",
            "Requirement already satisfied: Pillow in /usr/local/lib/python3.7/dist-packages (from rdkit-pypi->PyTDC) (7.1.2)\n",
            "Requirement already satisfied: urllib3!=1.25.0,!=1.25.1,<1.26,>=1.21.1 in /usr/local/lib/python3.7/dist-packages (from requests->PyTDC) (1.24.3)\n",
            "Requirement already satisfied: idna<3,>=2.5 in /usr/local/lib/python3.7/dist-packages (from requests->PyTDC) (2.10)\n",
            "Requirement already satisfied: certifi>=2017.4.17 in /usr/local/lib/python3.7/dist-packages (from requests->PyTDC) (2022.9.24)\n",
            "Requirement already satisfied: chardet<4,>=3.0.2 in /usr/local/lib/python3.7/dist-packages (from requests->PyTDC) (3.0.4)\n",
            "Requirement already satisfied: scipy>=0.19.1 in /usr/local/lib/python3.7/dist-packages (from scikit-learn->PyTDC) (1.7.3)\n",
            "Requirement already satisfied: threadpoolctl>=2.0.0 in /usr/local/lib/python3.7/dist-packages (from scikit-learn->PyTDC) (3.1.0)\n",
            "Requirement already satisfied: joblib>=0.11 in /usr/local/lib/python3.7/dist-packages (from scikit-learn->PyTDC) (1.2.0)\n",
            "Requirement already satisfied: matplotlib>=2.2 in /usr/local/lib/python3.7/dist-packages (from seaborn->PyTDC) (3.2.2)\n",
            "Requirement already satisfied: kiwisolver>=1.0.1 in /usr/local/lib/python3.7/dist-packages (from matplotlib>=2.2->seaborn->PyTDC) (1.4.4)\n",
            "Requirement already satisfied: pyparsing!=2.0.4,!=2.1.2,!=2.1.6,>=2.0.1 in /usr/local/lib/python3.7/dist-packages (from matplotlib>=2.2->seaborn->PyTDC) (3.0.9)\n",
            "Requirement already satisfied: cycler>=0.10 in /usr/local/lib/python3.7/dist-packages (from matplotlib>=2.2->seaborn->PyTDC) (0.11.0)\n",
            "Requirement already satisfied: typing-extensions in /usr/local/lib/python3.7/dist-packages (from kiwisolver>=1.0.1->matplotlib>=2.2->seaborn->PyTDC) (4.4.0)\n",
            "Building wheels for collected packages: PyTDC\n",
            "  Building wheel for PyTDC (setup.py) ... \u001b[?25l\u001b[?25hdone\n",
            "  Created wheel for PyTDC: filename=PyTDC-0.3.8-py3-none-any.whl size=136139 sha256=3cba3bb0e1dc5326052d5ba96413f86aceb5da96d155d77cd59b1e77baa97876\n",
            "  Stored in directory: /root/.cache/pip/wheels/c2/af/6d/ea84a97295fc14332ee00110acbd1e8a1730c301ecdfc4858e\n",
            "Successfully built PyTDC\n",
            "Installing collected packages: fuzzywuzzy, PyTDC\n",
            "Successfully installed PyTDC-0.3.8 fuzzywuzzy-0.18.0\n"
          ]
        }
      ],
      "source": [
        "!pip install rdkit-pypi\n",
        "!pip install lifelines\n",
        "!pip install dgl-cu111 dglgo -f https://data.dgl.ai/wheels/repo.html\n",
        "!pip install dgllife\n",
        "!pip install PyTDC"
      ]
    },
    {
      "cell_type": "markdown",
      "metadata": {
        "id": "euQ6511s9n7e"
      },
      "source": [
        "# 데이터 준비하기"
      ]
    },
    {
      "cell_type": "markdown",
      "metadata": {
        "id": "jEsyWIdpNDHk"
      },
      "source": [
        "### 데이터 불러오기"
      ]
    },
    {
      "cell_type": "code",
      "execution_count": null,
      "metadata": {
        "id": "wut5lPnjJN1D"
      },
      "outputs": [],
      "source": [
        "# 필요한 라이브러리 불러오기\n",
        "\n",
        "import os\n",
        "import pandas as pd\n",
        "import json\n",
        "import numpy as np\n",
        "import warnings\n",
        "warnings.filterwarnings('ignore')"
      ]
    },
    {
      "cell_type": "markdown",
      "metadata": {
        "id": "G18vZzpdl2pk"
      },
      "source": [
        "[DAVIS](https://www.nature.com/articles/nbt.1990)\n",
        "\n",
        "\n"
      ]
    },
    {
      "cell_type": "code",
      "execution_count": null,
      "metadata": {
        "id": "E_EbuOLj3G7_"
      },
      "outputs": [],
      "source": []
    },
    {
      "cell_type": "code",
      "execution_count": null,
      "metadata": {
        "colab": {
          "base_uri": "https://localhost:8080/"
        },
        "id": "_7t0Pk7xGprJ",
        "outputId": "ea9500f6-e845-488b-cf3b-221a833141ae"
      },
      "outputs": [
        {
          "name": "stdout",
          "output_type": "stream",
          "text": [
            "Archive:  /content/drive/MyDrive/For_studuent_sharing/4강/DAVIS.zip\n",
            "   creating: DAVIS/\n",
            "  inflating: DAVIS/affinity.txt      \n",
            "  inflating: __MACOSX/DAVIS/._affinity.txt  \n",
            "  inflating: DAVIS/SMILES.txt        \n",
            "  inflating: __MACOSX/DAVIS/._SMILES.txt  \n",
            "  inflating: DAVIS/target_seq.txt    \n",
            "  inflating: __MACOSX/DAVIS/._target_seq.txt  \n"
          ]
        }
      ],
      "source": [
        "# 공유 폴더에 저장된 데이터 현재 폴더에 압축풀기\n",
        "\n",
        "!unzip /content/drive/MyDrive/For_studuent_sharing/DAVIS.zip"
      ]
    },
    {
      "cell_type": "code",
      "execution_count": null,
      "metadata": {
        "id": "LWG612C8Gthu"
      },
      "outputs": [],
      "source": [
        "# drug - target binding affinity 데이터\n",
        "affinity = pd.read_csv('/content/DAVIS/affinity.txt', header=None, sep = ' ')\n",
        "\n",
        "# Target protein sequence 데이터\n",
        "with open('/content/DAVIS/target_seq.txt') as f:\n",
        "    target = json.load(f)\n",
        "    target = list(target.values())\n",
        "\n",
        "# Drug SMILES 데이터\n",
        "with open('/content/DAVIS/SMILES.txt') as f:\n",
        "    drug = json.load(f)\n",
        "    drug = list(drug.values())"
      ]
    },
    {
      "cell_type": "markdown",
      "metadata": {
        "id": "vVu2IZopNGrl"
      },
      "source": [
        "### 데이터 탐색 (Exploratory data analysis) "
      ]
    },
    {
      "cell_type": "markdown",
      "metadata": {
        "id": "YZiiSr6FNYNY"
      },
      "source": [
        "**Binding Affiniry**"
      ]
    },
    {
      "cell_type": "code",
      "execution_count": null,
      "metadata": {
        "colab": {
          "base_uri": "https://localhost:8080/"
        },
        "id": "g4BWw2oGNvXm",
        "outputId": "07f475e7-410b-428c-a8d3-39a596693d48"
      },
      "outputs": [
        {
          "data": {
            "text/plain": [
              "(68, 442)"
            ]
          },
          "execution_count": 6,
          "metadata": {},
          "output_type": "execute_result"
        }
      ],
      "source": [
        "affinity.shape\n",
        "\n",
        "# 행(row): drugs\n",
        "# 열(col): target"
      ]
    },
    {
      "cell_type": "code",
      "execution_count": null,
      "metadata": {
        "colab": {
          "base_uri": "https://localhost:8080/",
          "height": 236
        },
        "id": "A0HVIOoqM87I",
        "outputId": "a8496097-73f3-4068-b754-2db2fb407610"
      },
      "outputs": [
        {
          "data": {
            "text/html": [
              "\n",
              "  <div id=\"df-128941bf-a4a1-4172-8c24-e49ae8d01475\">\n",
              "    <div class=\"colab-df-container\">\n",
              "      <div>\n",
              "<style scoped>\n",
              "    .dataframe tbody tr th:only-of-type {\n",
              "        vertical-align: middle;\n",
              "    }\n",
              "\n",
              "    .dataframe tbody tr th {\n",
              "        vertical-align: top;\n",
              "    }\n",
              "\n",
              "    .dataframe thead th {\n",
              "        text-align: right;\n",
              "    }\n",
              "</style>\n",
              "<table border=\"1\" class=\"dataframe\">\n",
              "  <thead>\n",
              "    <tr style=\"text-align: right;\">\n",
              "      <th></th>\n",
              "      <th>0</th>\n",
              "      <th>1</th>\n",
              "      <th>2</th>\n",
              "      <th>3</th>\n",
              "      <th>4</th>\n",
              "      <th>5</th>\n",
              "      <th>6</th>\n",
              "      <th>7</th>\n",
              "      <th>8</th>\n",
              "      <th>9</th>\n",
              "      <th>...</th>\n",
              "      <th>432</th>\n",
              "      <th>433</th>\n",
              "      <th>434</th>\n",
              "      <th>435</th>\n",
              "      <th>436</th>\n",
              "      <th>437</th>\n",
              "      <th>438</th>\n",
              "      <th>439</th>\n",
              "      <th>440</th>\n",
              "      <th>441</th>\n",
              "    </tr>\n",
              "  </thead>\n",
              "  <tbody>\n",
              "    <tr>\n",
              "      <th>0</th>\n",
              "      <td>43.0</td>\n",
              "      <td>10000.0</td>\n",
              "      <td>10000.0</td>\n",
              "      <td>10000.0</td>\n",
              "      <td>10000.00</td>\n",
              "      <td>10000.0</td>\n",
              "      <td>10000.0</td>\n",
              "      <td>10000.0</td>\n",
              "      <td>10000.0</td>\n",
              "      <td>10000.00</td>\n",
              "      <td>...</td>\n",
              "      <td>10000</td>\n",
              "      <td>10000</td>\n",
              "      <td>10000</td>\n",
              "      <td>10000</td>\n",
              "      <td>10000</td>\n",
              "      <td>10000.0</td>\n",
              "      <td>10000</td>\n",
              "      <td>230.0</td>\n",
              "      <td>10000.0</td>\n",
              "      <td>10000</td>\n",
              "    </tr>\n",
              "    <tr>\n",
              "      <th>1</th>\n",
              "      <td>10000.0</td>\n",
              "      <td>10000.0</td>\n",
              "      <td>10000.0</td>\n",
              "      <td>10000.0</td>\n",
              "      <td>10000.00</td>\n",
              "      <td>10000.0</td>\n",
              "      <td>10000.0</td>\n",
              "      <td>10000.0</td>\n",
              "      <td>10000.0</td>\n",
              "      <td>10000.00</td>\n",
              "      <td>...</td>\n",
              "      <td>10000</td>\n",
              "      <td>10000</td>\n",
              "      <td>10000</td>\n",
              "      <td>10000</td>\n",
              "      <td>10000</td>\n",
              "      <td>10000.0</td>\n",
              "      <td>10000</td>\n",
              "      <td>2000.0</td>\n",
              "      <td>10000.0</td>\n",
              "      <td>10000</td>\n",
              "    </tr>\n",
              "    <tr>\n",
              "      <th>2</th>\n",
              "      <td>10000.0</td>\n",
              "      <td>75.0</td>\n",
              "      <td>1.9</td>\n",
              "      <td>13.0</td>\n",
              "      <td>0.77</td>\n",
              "      <td>13.0</td>\n",
              "      <td>2.6</td>\n",
              "      <td>31.0</td>\n",
              "      <td>34.0</td>\n",
              "      <td>0.93</td>\n",
              "      <td>...</td>\n",
              "      <td>10000</td>\n",
              "      <td>10000</td>\n",
              "      <td>10000</td>\n",
              "      <td>10000</td>\n",
              "      <td>10000</td>\n",
              "      <td>260.0</td>\n",
              "      <td>1200</td>\n",
              "      <td>120.0</td>\n",
              "      <td>2.3</td>\n",
              "      <td>10000</td>\n",
              "    </tr>\n",
              "    <tr>\n",
              "      <th>3</th>\n",
              "      <td>10000.0</td>\n",
              "      <td>10000.0</td>\n",
              "      <td>10000.0</td>\n",
              "      <td>10000.0</td>\n",
              "      <td>10000.00</td>\n",
              "      <td>10000.0</td>\n",
              "      <td>10000.0</td>\n",
              "      <td>10000.0</td>\n",
              "      <td>10000.0</td>\n",
              "      <td>10000.00</td>\n",
              "      <td>...</td>\n",
              "      <td>10000</td>\n",
              "      <td>10000</td>\n",
              "      <td>10000</td>\n",
              "      <td>10000</td>\n",
              "      <td>10000</td>\n",
              "      <td>10000.0</td>\n",
              "      <td>10000</td>\n",
              "      <td>10000.0</td>\n",
              "      <td>10000.0</td>\n",
              "      <td>10000</td>\n",
              "    </tr>\n",
              "    <tr>\n",
              "      <th>4</th>\n",
              "      <td>10000.0</td>\n",
              "      <td>420.0</td>\n",
              "      <td>2900.0</td>\n",
              "      <td>750.0</td>\n",
              "      <td>580.00</td>\n",
              "      <td>230.0</td>\n",
              "      <td>500.0</td>\n",
              "      <td>500.0</td>\n",
              "      <td>1200.0</td>\n",
              "      <td>790.00</td>\n",
              "      <td>...</td>\n",
              "      <td>10000</td>\n",
              "      <td>10000</td>\n",
              "      <td>10000</td>\n",
              "      <td>10000</td>\n",
              "      <td>10000</td>\n",
              "      <td>10000.0</td>\n",
              "      <td>10000</td>\n",
              "      <td>10000.0</td>\n",
              "      <td>10000.0</td>\n",
              "      <td>10000</td>\n",
              "    </tr>\n",
              "  </tbody>\n",
              "</table>\n",
              "<p>5 rows × 442 columns</p>\n",
              "</div>\n",
              "      <button class=\"colab-df-convert\" onclick=\"convertToInteractive('df-128941bf-a4a1-4172-8c24-e49ae8d01475')\"\n",
              "              title=\"Convert this dataframe to an interactive table.\"\n",
              "              style=\"display:none;\">\n",
              "        \n",
              "  <svg xmlns=\"http://www.w3.org/2000/svg\" height=\"24px\"viewBox=\"0 0 24 24\"\n",
              "       width=\"24px\">\n",
              "    <path d=\"M0 0h24v24H0V0z\" fill=\"none\"/>\n",
              "    <path d=\"M18.56 5.44l.94 2.06.94-2.06 2.06-.94-2.06-.94-.94-2.06-.94 2.06-2.06.94zm-11 1L8.5 8.5l.94-2.06 2.06-.94-2.06-.94L8.5 2.5l-.94 2.06-2.06.94zm10 10l.94 2.06.94-2.06 2.06-.94-2.06-.94-.94-2.06-.94 2.06-2.06.94z\"/><path d=\"M17.41 7.96l-1.37-1.37c-.4-.4-.92-.59-1.43-.59-.52 0-1.04.2-1.43.59L10.3 9.45l-7.72 7.72c-.78.78-.78 2.05 0 2.83L4 21.41c.39.39.9.59 1.41.59.51 0 1.02-.2 1.41-.59l7.78-7.78 2.81-2.81c.8-.78.8-2.07 0-2.86zM5.41 20L4 18.59l7.72-7.72 1.47 1.35L5.41 20z\"/>\n",
              "  </svg>\n",
              "      </button>\n",
              "      \n",
              "  <style>\n",
              "    .colab-df-container {\n",
              "      display:flex;\n",
              "      flex-wrap:wrap;\n",
              "      gap: 12px;\n",
              "    }\n",
              "\n",
              "    .colab-df-convert {\n",
              "      background-color: #E8F0FE;\n",
              "      border: none;\n",
              "      border-radius: 50%;\n",
              "      cursor: pointer;\n",
              "      display: none;\n",
              "      fill: #1967D2;\n",
              "      height: 32px;\n",
              "      padding: 0 0 0 0;\n",
              "      width: 32px;\n",
              "    }\n",
              "\n",
              "    .colab-df-convert:hover {\n",
              "      background-color: #E2EBFA;\n",
              "      box-shadow: 0px 1px 2px rgba(60, 64, 67, 0.3), 0px 1px 3px 1px rgba(60, 64, 67, 0.15);\n",
              "      fill: #174EA6;\n",
              "    }\n",
              "\n",
              "    [theme=dark] .colab-df-convert {\n",
              "      background-color: #3B4455;\n",
              "      fill: #D2E3FC;\n",
              "    }\n",
              "\n",
              "    [theme=dark] .colab-df-convert:hover {\n",
              "      background-color: #434B5C;\n",
              "      box-shadow: 0px 1px 3px 1px rgba(0, 0, 0, 0.15);\n",
              "      filter: drop-shadow(0px 1px 2px rgba(0, 0, 0, 0.3));\n",
              "      fill: #FFFFFF;\n",
              "    }\n",
              "  </style>\n",
              "\n",
              "      <script>\n",
              "        const buttonEl =\n",
              "          document.querySelector('#df-128941bf-a4a1-4172-8c24-e49ae8d01475 button.colab-df-convert');\n",
              "        buttonEl.style.display =\n",
              "          google.colab.kernel.accessAllowed ? 'block' : 'none';\n",
              "\n",
              "        async function convertToInteractive(key) {\n",
              "          const element = document.querySelector('#df-128941bf-a4a1-4172-8c24-e49ae8d01475');\n",
              "          const dataTable =\n",
              "            await google.colab.kernel.invokeFunction('convertToInteractive',\n",
              "                                                     [key], {});\n",
              "          if (!dataTable) return;\n",
              "\n",
              "          const docLinkHtml = 'Like what you see? Visit the ' +\n",
              "            '<a target=\"_blank\" href=https://colab.research.google.com/notebooks/data_table.ipynb>data table notebook</a>'\n",
              "            + ' to learn more about interactive tables.';\n",
              "          element.innerHTML = '';\n",
              "          dataTable['output_type'] = 'display_data';\n",
              "          await google.colab.output.renderOutput(dataTable, element);\n",
              "          const docLink = document.createElement('div');\n",
              "          docLink.innerHTML = docLinkHtml;\n",
              "          element.appendChild(docLink);\n",
              "        }\n",
              "      </script>\n",
              "    </div>\n",
              "  </div>\n",
              "  "
            ],
            "text/plain": [
              "       0        1        2        3         4        5        6        7    \\\n",
              "0     43.0  10000.0  10000.0  10000.0  10000.00  10000.0  10000.0  10000.0   \n",
              "1  10000.0  10000.0  10000.0  10000.0  10000.00  10000.0  10000.0  10000.0   \n",
              "2  10000.0     75.0      1.9     13.0      0.77     13.0      2.6     31.0   \n",
              "3  10000.0  10000.0  10000.0  10000.0  10000.00  10000.0  10000.0  10000.0   \n",
              "4  10000.0    420.0   2900.0    750.0    580.00    230.0    500.0    500.0   \n",
              "\n",
              "       8         9    ...    432    433    434    435    436      437    438  \\\n",
              "0  10000.0  10000.00  ...  10000  10000  10000  10000  10000  10000.0  10000   \n",
              "1  10000.0  10000.00  ...  10000  10000  10000  10000  10000  10000.0  10000   \n",
              "2     34.0      0.93  ...  10000  10000  10000  10000  10000    260.0   1200   \n",
              "3  10000.0  10000.00  ...  10000  10000  10000  10000  10000  10000.0  10000   \n",
              "4   1200.0    790.00  ...  10000  10000  10000  10000  10000  10000.0  10000   \n",
              "\n",
              "       439      440    441  \n",
              "0    230.0  10000.0  10000  \n",
              "1   2000.0  10000.0  10000  \n",
              "2    120.0      2.3  10000  \n",
              "3  10000.0  10000.0  10000  \n",
              "4  10000.0  10000.0  10000  \n",
              "\n",
              "[5 rows x 442 columns]"
            ]
          },
          "execution_count": 7,
          "metadata": {},
          "output_type": "execute_result"
        }
      ],
      "source": [
        "affinity.head()"
      ]
    },
    {
      "cell_type": "code",
      "execution_count": null,
      "metadata": {
        "colab": {
          "base_uri": "https://localhost:8080/",
          "height": 394
        },
        "id": "uwHT19FlOFkS",
        "outputId": "bec9ceb9-0c59-446d-80e8-7684c56c7790"
      },
      "outputs": [
        {
          "data": {
            "text/html": [
              "\n",
              "  <div id=\"df-22ee7b8b-ba64-434d-b94d-c3443c2056e9\">\n",
              "    <div class=\"colab-df-container\">\n",
              "      <div>\n",
              "<style scoped>\n",
              "    .dataframe tbody tr th:only-of-type {\n",
              "        vertical-align: middle;\n",
              "    }\n",
              "\n",
              "    .dataframe tbody tr th {\n",
              "        vertical-align: top;\n",
              "    }\n",
              "\n",
              "    .dataframe thead th {\n",
              "        text-align: right;\n",
              "    }\n",
              "</style>\n",
              "<table border=\"1\" class=\"dataframe\">\n",
              "  <thead>\n",
              "    <tr style=\"text-align: right;\">\n",
              "      <th></th>\n",
              "      <th>0</th>\n",
              "      <th>1</th>\n",
              "      <th>2</th>\n",
              "      <th>3</th>\n",
              "      <th>4</th>\n",
              "      <th>5</th>\n",
              "      <th>6</th>\n",
              "      <th>7</th>\n",
              "      <th>8</th>\n",
              "      <th>9</th>\n",
              "      <th>...</th>\n",
              "      <th>432</th>\n",
              "      <th>433</th>\n",
              "      <th>434</th>\n",
              "      <th>435</th>\n",
              "      <th>436</th>\n",
              "      <th>437</th>\n",
              "      <th>438</th>\n",
              "      <th>439</th>\n",
              "      <th>440</th>\n",
              "      <th>441</th>\n",
              "    </tr>\n",
              "  </thead>\n",
              "  <tbody>\n",
              "    <tr>\n",
              "      <th>count</th>\n",
              "      <td>68.000000</td>\n",
              "      <td>68.000000</td>\n",
              "      <td>68.000000</td>\n",
              "      <td>68.000000</td>\n",
              "      <td>68.000000</td>\n",
              "      <td>68.000000</td>\n",
              "      <td>68.000000</td>\n",
              "      <td>68.000000</td>\n",
              "      <td>68.000000</td>\n",
              "      <td>68.000000</td>\n",
              "      <td>...</td>\n",
              "      <td>68.000000</td>\n",
              "      <td>68.000000</td>\n",
              "      <td>68.000000</td>\n",
              "      <td>68.000000</td>\n",
              "      <td>68.000000</td>\n",
              "      <td>68.000000</td>\n",
              "      <td>68.000000</td>\n",
              "      <td>68.000000</td>\n",
              "      <td>68.000000</td>\n",
              "      <td>68.000000</td>\n",
              "    </tr>\n",
              "    <tr>\n",
              "      <th>mean</th>\n",
              "      <td>6305.710294</td>\n",
              "      <td>4786.038882</td>\n",
              "      <td>6776.396029</td>\n",
              "      <td>6157.742956</td>\n",
              "      <td>5368.200176</td>\n",
              "      <td>5076.213941</td>\n",
              "      <td>3662.326721</td>\n",
              "      <td>4603.582397</td>\n",
              "      <td>4621.454015</td>\n",
              "      <td>4351.749309</td>\n",
              "      <td>...</td>\n",
              "      <td>8199.426471</td>\n",
              "      <td>9174.279412</td>\n",
              "      <td>8509.647059</td>\n",
              "      <td>8989.588235</td>\n",
              "      <td>9681.838235</td>\n",
              "      <td>5118.126471</td>\n",
              "      <td>8046.602941</td>\n",
              "      <td>3241.946765</td>\n",
              "      <td>6886.200000</td>\n",
              "      <td>8798.838235</td>\n",
              "    </tr>\n",
              "    <tr>\n",
              "      <th>std</th>\n",
              "      <td>4502.267160</td>\n",
              "      <td>4755.621867</td>\n",
              "      <td>4071.977775</td>\n",
              "      <td>4317.135465</td>\n",
              "      <td>4538.166881</td>\n",
              "      <td>4586.191949</td>\n",
              "      <td>4403.584967</td>\n",
              "      <td>4605.842183</td>\n",
              "      <td>4752.974206</td>\n",
              "      <td>4717.341321</td>\n",
              "      <td>...</td>\n",
              "      <td>3384.862965</td>\n",
              "      <td>2458.183712</td>\n",
              "      <td>3181.048615</td>\n",
              "      <td>2741.635062</td>\n",
              "      <td>1683.615935</td>\n",
              "      <td>4627.492704</td>\n",
              "      <td>3430.533809</td>\n",
              "      <td>4272.287089</td>\n",
              "      <td>4264.491886</td>\n",
              "      <td>2973.932873</td>\n",
              "    </tr>\n",
              "    <tr>\n",
              "      <th>min</th>\n",
              "      <td>1.200000</td>\n",
              "      <td>0.047000</td>\n",
              "      <td>0.100000</td>\n",
              "      <td>0.041000</td>\n",
              "      <td>0.032000</td>\n",
              "      <td>0.019000</td>\n",
              "      <td>0.025000</td>\n",
              "      <td>0.046000</td>\n",
              "      <td>0.016000</td>\n",
              "      <td>0.037000</td>\n",
              "      <td>...</td>\n",
              "      <td>71.000000</td>\n",
              "      <td>57.000000</td>\n",
              "      <td>13.000000</td>\n",
              "      <td>24.000000</td>\n",
              "      <td>55.000000</td>\n",
              "      <td>0.300000</td>\n",
              "      <td>12.000000</td>\n",
              "      <td>0.520000</td>\n",
              "      <td>2.300000</td>\n",
              "      <td>16.000000</td>\n",
              "    </tr>\n",
              "    <tr>\n",
              "      <th>25%</th>\n",
              "      <td>892.500000</td>\n",
              "      <td>123.750000</td>\n",
              "      <td>2775.000000</td>\n",
              "      <td>1075.000000</td>\n",
              "      <td>632.500000</td>\n",
              "      <td>270.000000</td>\n",
              "      <td>45.000000</td>\n",
              "      <td>64.000000</td>\n",
              "      <td>59.000000</td>\n",
              "      <td>99.250000</td>\n",
              "      <td>...</td>\n",
              "      <td>10000.000000</td>\n",
              "      <td>10000.000000</td>\n",
              "      <td>10000.000000</td>\n",
              "      <td>10000.000000</td>\n",
              "      <td>10000.000000</td>\n",
              "      <td>260.000000</td>\n",
              "      <td>7100.000000</td>\n",
              "      <td>50.250000</td>\n",
              "      <td>1775.000000</td>\n",
              "      <td>10000.000000</td>\n",
              "    </tr>\n",
              "    <tr>\n",
              "      <th>50%</th>\n",
              "      <td>10000.000000</td>\n",
              "      <td>2050.000000</td>\n",
              "      <td>10000.000000</td>\n",
              "      <td>10000.000000</td>\n",
              "      <td>4250.000000</td>\n",
              "      <td>2800.000000</td>\n",
              "      <td>960.000000</td>\n",
              "      <td>2500.000000</td>\n",
              "      <td>1800.000000</td>\n",
              "      <td>865.000000</td>\n",
              "      <td>...</td>\n",
              "      <td>10000.000000</td>\n",
              "      <td>10000.000000</td>\n",
              "      <td>10000.000000</td>\n",
              "      <td>10000.000000</td>\n",
              "      <td>10000.000000</td>\n",
              "      <td>4350.000000</td>\n",
              "      <td>10000.000000</td>\n",
              "      <td>490.000000</td>\n",
              "      <td>10000.000000</td>\n",
              "      <td>10000.000000</td>\n",
              "    </tr>\n",
              "    <tr>\n",
              "      <th>75%</th>\n",
              "      <td>10000.000000</td>\n",
              "      <td>10000.000000</td>\n",
              "      <td>10000.000000</td>\n",
              "      <td>10000.000000</td>\n",
              "      <td>10000.000000</td>\n",
              "      <td>10000.000000</td>\n",
              "      <td>10000.000000</td>\n",
              "      <td>10000.000000</td>\n",
              "      <td>10000.000000</td>\n",
              "      <td>10000.000000</td>\n",
              "      <td>...</td>\n",
              "      <td>10000.000000</td>\n",
              "      <td>10000.000000</td>\n",
              "      <td>10000.000000</td>\n",
              "      <td>10000.000000</td>\n",
              "      <td>10000.000000</td>\n",
              "      <td>10000.000000</td>\n",
              "      <td>10000.000000</td>\n",
              "      <td>10000.000000</td>\n",
              "      <td>10000.000000</td>\n",
              "      <td>10000.000000</td>\n",
              "    </tr>\n",
              "    <tr>\n",
              "      <th>max</th>\n",
              "      <td>10000.000000</td>\n",
              "      <td>10000.000000</td>\n",
              "      <td>10000.000000</td>\n",
              "      <td>10000.000000</td>\n",
              "      <td>10000.000000</td>\n",
              "      <td>10000.000000</td>\n",
              "      <td>10000.000000</td>\n",
              "      <td>10000.000000</td>\n",
              "      <td>10000.000000</td>\n",
              "      <td>10000.000000</td>\n",
              "      <td>...</td>\n",
              "      <td>10000.000000</td>\n",
              "      <td>10000.000000</td>\n",
              "      <td>10000.000000</td>\n",
              "      <td>10000.000000</td>\n",
              "      <td>10000.000000</td>\n",
              "      <td>10000.000000</td>\n",
              "      <td>10000.000000</td>\n",
              "      <td>10000.000000</td>\n",
              "      <td>10000.000000</td>\n",
              "      <td>10000.000000</td>\n",
              "    </tr>\n",
              "  </tbody>\n",
              "</table>\n",
              "<p>8 rows × 442 columns</p>\n",
              "</div>\n",
              "      <button class=\"colab-df-convert\" onclick=\"convertToInteractive('df-22ee7b8b-ba64-434d-b94d-c3443c2056e9')\"\n",
              "              title=\"Convert this dataframe to an interactive table.\"\n",
              "              style=\"display:none;\">\n",
              "        \n",
              "  <svg xmlns=\"http://www.w3.org/2000/svg\" height=\"24px\"viewBox=\"0 0 24 24\"\n",
              "       width=\"24px\">\n",
              "    <path d=\"M0 0h24v24H0V0z\" fill=\"none\"/>\n",
              "    <path d=\"M18.56 5.44l.94 2.06.94-2.06 2.06-.94-2.06-.94-.94-2.06-.94 2.06-2.06.94zm-11 1L8.5 8.5l.94-2.06 2.06-.94-2.06-.94L8.5 2.5l-.94 2.06-2.06.94zm10 10l.94 2.06.94-2.06 2.06-.94-2.06-.94-.94-2.06-.94 2.06-2.06.94z\"/><path d=\"M17.41 7.96l-1.37-1.37c-.4-.4-.92-.59-1.43-.59-.52 0-1.04.2-1.43.59L10.3 9.45l-7.72 7.72c-.78.78-.78 2.05 0 2.83L4 21.41c.39.39.9.59 1.41.59.51 0 1.02-.2 1.41-.59l7.78-7.78 2.81-2.81c.8-.78.8-2.07 0-2.86zM5.41 20L4 18.59l7.72-7.72 1.47 1.35L5.41 20z\"/>\n",
              "  </svg>\n",
              "      </button>\n",
              "      \n",
              "  <style>\n",
              "    .colab-df-container {\n",
              "      display:flex;\n",
              "      flex-wrap:wrap;\n",
              "      gap: 12px;\n",
              "    }\n",
              "\n",
              "    .colab-df-convert {\n",
              "      background-color: #E8F0FE;\n",
              "      border: none;\n",
              "      border-radius: 50%;\n",
              "      cursor: pointer;\n",
              "      display: none;\n",
              "      fill: #1967D2;\n",
              "      height: 32px;\n",
              "      padding: 0 0 0 0;\n",
              "      width: 32px;\n",
              "    }\n",
              "\n",
              "    .colab-df-convert:hover {\n",
              "      background-color: #E2EBFA;\n",
              "      box-shadow: 0px 1px 2px rgba(60, 64, 67, 0.3), 0px 1px 3px 1px rgba(60, 64, 67, 0.15);\n",
              "      fill: #174EA6;\n",
              "    }\n",
              "\n",
              "    [theme=dark] .colab-df-convert {\n",
              "      background-color: #3B4455;\n",
              "      fill: #D2E3FC;\n",
              "    }\n",
              "\n",
              "    [theme=dark] .colab-df-convert:hover {\n",
              "      background-color: #434B5C;\n",
              "      box-shadow: 0px 1px 3px 1px rgba(0, 0, 0, 0.15);\n",
              "      filter: drop-shadow(0px 1px 2px rgba(0, 0, 0, 0.3));\n",
              "      fill: #FFFFFF;\n",
              "    }\n",
              "  </style>\n",
              "\n",
              "      <script>\n",
              "        const buttonEl =\n",
              "          document.querySelector('#df-22ee7b8b-ba64-434d-b94d-c3443c2056e9 button.colab-df-convert');\n",
              "        buttonEl.style.display =\n",
              "          google.colab.kernel.accessAllowed ? 'block' : 'none';\n",
              "\n",
              "        async function convertToInteractive(key) {\n",
              "          const element = document.querySelector('#df-22ee7b8b-ba64-434d-b94d-c3443c2056e9');\n",
              "          const dataTable =\n",
              "            await google.colab.kernel.invokeFunction('convertToInteractive',\n",
              "                                                     [key], {});\n",
              "          if (!dataTable) return;\n",
              "\n",
              "          const docLinkHtml = 'Like what you see? Visit the ' +\n",
              "            '<a target=\"_blank\" href=https://colab.research.google.com/notebooks/data_table.ipynb>data table notebook</a>'\n",
              "            + ' to learn more about interactive tables.';\n",
              "          element.innerHTML = '';\n",
              "          dataTable['output_type'] = 'display_data';\n",
              "          await google.colab.output.renderOutput(dataTable, element);\n",
              "          const docLink = document.createElement('div');\n",
              "          docLink.innerHTML = docLinkHtml;\n",
              "          element.appendChild(docLink);\n",
              "        }\n",
              "      </script>\n",
              "    </div>\n",
              "  </div>\n",
              "  "
            ],
            "text/plain": [
              "                0             1             2             3             4    \\\n",
              "count     68.000000     68.000000     68.000000     68.000000     68.000000   \n",
              "mean    6305.710294   4786.038882   6776.396029   6157.742956   5368.200176   \n",
              "std     4502.267160   4755.621867   4071.977775   4317.135465   4538.166881   \n",
              "min        1.200000      0.047000      0.100000      0.041000      0.032000   \n",
              "25%      892.500000    123.750000   2775.000000   1075.000000    632.500000   \n",
              "50%    10000.000000   2050.000000  10000.000000  10000.000000   4250.000000   \n",
              "75%    10000.000000  10000.000000  10000.000000  10000.000000  10000.000000   \n",
              "max    10000.000000  10000.000000  10000.000000  10000.000000  10000.000000   \n",
              "\n",
              "                5             6             7             8             9    \\\n",
              "count     68.000000     68.000000     68.000000     68.000000     68.000000   \n",
              "mean    5076.213941   3662.326721   4603.582397   4621.454015   4351.749309   \n",
              "std     4586.191949   4403.584967   4605.842183   4752.974206   4717.341321   \n",
              "min        0.019000      0.025000      0.046000      0.016000      0.037000   \n",
              "25%      270.000000     45.000000     64.000000     59.000000     99.250000   \n",
              "50%     2800.000000    960.000000   2500.000000   1800.000000    865.000000   \n",
              "75%    10000.000000  10000.000000  10000.000000  10000.000000  10000.000000   \n",
              "max    10000.000000  10000.000000  10000.000000  10000.000000  10000.000000   \n",
              "\n",
              "       ...           432           433           434           435  \\\n",
              "count  ...     68.000000     68.000000     68.000000     68.000000   \n",
              "mean   ...   8199.426471   9174.279412   8509.647059   8989.588235   \n",
              "std    ...   3384.862965   2458.183712   3181.048615   2741.635062   \n",
              "min    ...     71.000000     57.000000     13.000000     24.000000   \n",
              "25%    ...  10000.000000  10000.000000  10000.000000  10000.000000   \n",
              "50%    ...  10000.000000  10000.000000  10000.000000  10000.000000   \n",
              "75%    ...  10000.000000  10000.000000  10000.000000  10000.000000   \n",
              "max    ...  10000.000000  10000.000000  10000.000000  10000.000000   \n",
              "\n",
              "                436           437           438           439           440  \\\n",
              "count     68.000000     68.000000     68.000000     68.000000     68.000000   \n",
              "mean    9681.838235   5118.126471   8046.602941   3241.946765   6886.200000   \n",
              "std     1683.615935   4627.492704   3430.533809   4272.287089   4264.491886   \n",
              "min       55.000000      0.300000     12.000000      0.520000      2.300000   \n",
              "25%    10000.000000    260.000000   7100.000000     50.250000   1775.000000   \n",
              "50%    10000.000000   4350.000000  10000.000000    490.000000  10000.000000   \n",
              "75%    10000.000000  10000.000000  10000.000000  10000.000000  10000.000000   \n",
              "max    10000.000000  10000.000000  10000.000000  10000.000000  10000.000000   \n",
              "\n",
              "                441  \n",
              "count     68.000000  \n",
              "mean    8798.838235  \n",
              "std     2973.932873  \n",
              "min       16.000000  \n",
              "25%    10000.000000  \n",
              "50%    10000.000000  \n",
              "75%    10000.000000  \n",
              "max    10000.000000  \n",
              "\n",
              "[8 rows x 442 columns]"
            ]
          },
          "execution_count": 8,
          "metadata": {},
          "output_type": "execute_result"
        }
      ],
      "source": [
        "affinity.describe()"
      ]
    },
    {
      "cell_type": "code",
      "execution_count": null,
      "metadata": {
        "id": "O8gGMTRiOrJR"
      },
      "outputs": [],
      "source": []
    },
    {
      "cell_type": "markdown",
      "metadata": {
        "id": "Ue-rSXaPOrpm"
      },
      "source": [
        "**Target protein & Drug**"
      ]
    },
    {
      "cell_type": "code",
      "execution_count": null,
      "metadata": {
        "colab": {
          "base_uri": "https://localhost:8080/"
        },
        "id": "Z0mbaRoNOy1a",
        "outputId": "1248c735-3e7c-4d4c-a745-8ace8607c453"
      },
      "outputs": [
        {
          "name": "stdout",
          "output_type": "stream",
          "text": [
            "총 protein 개수: 442\n",
            "총 drug 개수: 68\n"
          ]
        }
      ],
      "source": [
        "print(f\"총 protein 개수: {len(target)}\")\n",
        "print(f\"총 drug 개수: {len(drug)}\")"
      ]
    },
    {
      "cell_type": "code",
      "execution_count": null,
      "metadata": {
        "colab": {
          "base_uri": "https://localhost:8080/"
        },
        "id": "9aTePlZEOtIs",
        "outputId": "04462804-3715-40a4-d6f1-0f108443b33a"
      },
      "outputs": [
        {
          "name": "stdout",
          "output_type": "stream",
          "text": [
            "Target protein sequence 예시: \n",
            "MKKFFDSRREQGGSGLGSGSSGGGGSTSGLGSGYIGRVFGIGRQQVTVDEVLAEGGFAIVFLVRTSNGMKCALKRMFVNNEHDLQVCKREIQIMRDLSGHKNIVGYIDSSINNVSSGDVWEVLILMDFCRGGQVVNLMNQRLQTGFTENEVLQIFCDTCEAVARLHQCKTPIIHRDLKVENILLHDRGHYVLCDFGSATNKFQNPQTEGVNAVEDEIKKYTTLSYRAPEMVNLYSGKIITTKADIWALGCLLYKLCYFTLPFGESQVAICDGNFTIPDNSRYSQDMHCLIRYMLEPDPDKRPDIYQVSYFSFKLLKKECPIPNVQNSPIPAKLPEPVKASEAAAKKTQPKARLTDPIPTTETSIAPRQRPKAGQTQPNPGILPIQPALTPRKRATVQPPPQAAGSSNQPGLLASVPQPKPQAPPSQPLPQTQAKQPQAPPTPQQTPSTQAQGLPAQAQATPQHQQQLFLKQQQQQQQPPPAQQQPAGTFYQQQQAQTQQFQAVHPATQKPAIAQFPVVSQGGSQQQLMQNFYQQQQQQQQQQQQQQLATALHQQQLMTQQAALQQKPTMAAGQQPQPQPAAAPQPAPAQEPAIQAPVRQQPKVQTTPPPAVQGQKVGSLTPPSSPKTQRAGHRRILSDVTHSAVFGVPASKSTQLLQAAAAEASLNKSKSATTTPSGSPRTSQQNVYNPSEGSTWNPFDDDNFSKLTAEELLNKDFAKLGEGKHPEKLGGSAESLIPGFQSTQGDAFATTSFSAGTAEKRKGGQTVDSGLPLLSVSDPFIPLQVPDAPEKLIEGLKSPDTSLLLPDLLPMTDPFGSTSDAVIEKADVAVESLIPGLEPPVPQRLPSQTESVTSNRTDSLTGEDSLLDCSLLSNPTTDLLEEFAPTAISAPVHKAAEDSNLISGFDVPEGSDKVAEDEFDPIPVLITKNPQGGHSRNSSGSSESSLPNLARSLLLVDQLIDL\n",
            "Drug SMILES 예시: \n",
            "CC1=C2C=C(C=CC2=NN1)C3=CC(=CN=C3)OCC(CC4=CC=CC=C4)N\n"
          ]
        }
      ],
      "source": [
        "print(\"Target protein sequence 예시: \")\n",
        "print(target[0])\n",
        "print(\"Drug SMILES 예시: \")\n",
        "print(drug[0])"
      ]
    },
    {
      "cell_type": "code",
      "execution_count": null,
      "metadata": {
        "id": "UiYVTKRJO5nP"
      },
      "outputs": [],
      "source": []
    },
    {
      "cell_type": "markdown",
      "metadata": {
        "id": "eDy11ttrPMTt"
      },
      "source": [
        "### 데이터 전처리 (Data pre-processing)"
      ]
    },
    {
      "cell_type": "markdown",
      "metadata": {
        "id": "--PLWkkITRLa"
      },
      "source": [
        "**데이터 프레임 만들기**"
      ]
    },
    {
      "cell_type": "code",
      "execution_count": null,
      "metadata": {
        "id": "CJ_eU3VIRaJC"
      },
      "outputs": [],
      "source": [
        "from sklearn.preprocessing import OneHotEncoder"
      ]
    },
    {
      "cell_type": "code",
      "execution_count": null,
      "metadata": {
        "id": "FD9XOSVlJBxU"
      },
      "outputs": [],
      "source": [
        "# SMILES - Target - Affinity paired list 만들기\n",
        "\n",
        "SMILES = [] \n",
        "Target_seq = []\n",
        "y = []\n",
        "\n",
        "for i in range(len(drug)):\n",
        "  for j in range(len(target)):\n",
        "    SMILES.append(drug[i])\n",
        "    Target_seq.append(target[j])\n",
        "    y.append(affinity.values[i, j])"
      ]
    },
    {
      "cell_type": "code",
      "execution_count": null,
      "metadata": {
        "id": "m0t3wfhWLaI1"
      },
      "outputs": [],
      "source": [
        "# Binding affinity cutoff로 affinity 이진화(binary)하기\n",
        "\n",
        "threshold = 300 # Binding affinity cutoff\n",
        "\n",
        "y = [1 if i else 0 for i in np.array(y) < threshold]"
      ]
    },
    {
      "cell_type": "code",
      "execution_count": null,
      "metadata": {
        "id": "gE9R8809MugI"
      },
      "outputs": [],
      "source": []
    },
    {
      "cell_type": "code",
      "execution_count": null,
      "metadata": {
        "id": "R0iPES4fOlGK"
      },
      "outputs": [],
      "source": [
        "# 모든 데이터 하나의 데이터 프레임으로 만들기\n",
        "\n",
        "All_Data_dictionary = {\"SMILES\": SMILES,\n",
        "                        \"Target Sequence\": Target_seq,\n",
        "                        \"Label\":y}\n",
        "\n",
        "df_data = pd.DataFrame(All_Data_dictionary)"
      ]
    },
    {
      "cell_type": "code",
      "execution_count": null,
      "metadata": {
        "colab": {
          "base_uri": "https://localhost:8080/",
          "height": 424
        },
        "id": "8PmLyeR1Muq1",
        "outputId": "97b40e4f-6168-4a81-95f0-e8ece7cd94e0"
      },
      "outputs": [
        {
          "data": {
            "text/html": [
              "\n",
              "  <div id=\"df-1b58962e-0de6-47e0-89b1-a7ab9067f96e\">\n",
              "    <div class=\"colab-df-container\">\n",
              "      <div>\n",
              "<style scoped>\n",
              "    .dataframe tbody tr th:only-of-type {\n",
              "        vertical-align: middle;\n",
              "    }\n",
              "\n",
              "    .dataframe tbody tr th {\n",
              "        vertical-align: top;\n",
              "    }\n",
              "\n",
              "    .dataframe thead th {\n",
              "        text-align: right;\n",
              "    }\n",
              "</style>\n",
              "<table border=\"1\" class=\"dataframe\">\n",
              "  <thead>\n",
              "    <tr style=\"text-align: right;\">\n",
              "      <th></th>\n",
              "      <th>SMILES</th>\n",
              "      <th>Target Sequence</th>\n",
              "      <th>Label</th>\n",
              "    </tr>\n",
              "  </thead>\n",
              "  <tbody>\n",
              "    <tr>\n",
              "      <th>0</th>\n",
              "      <td>CC1=C2C=C(C=CC2=NN1)C3=CC(=CN=C3)OCC(CC4=CC=CC...</td>\n",
              "      <td>MKKFFDSRREQGGSGLGSGSSGGGGSTSGLGSGYIGRVFGIGRQQV...</td>\n",
              "      <td>1</td>\n",
              "    </tr>\n",
              "    <tr>\n",
              "      <th>1</th>\n",
              "      <td>CC1=C2C=C(C=CC2=NN1)C3=CC(=CN=C3)OCC(CC4=CC=CC...</td>\n",
              "      <td>PFWKILNPLLERGTYYYFMGQQPGKVLGDQRRPSLPALHFIKGAGK...</td>\n",
              "      <td>0</td>\n",
              "    </tr>\n",
              "    <tr>\n",
              "      <th>2</th>\n",
              "      <td>CC1=C2C=C(C=CC2=NN1)C3=CC(=CN=C3)OCC(CC4=CC=CC...</td>\n",
              "      <td>PFWKILNPLLERGTYYYFMGQQPGKVLGDQRRPSLPALHFIKGAGK...</td>\n",
              "      <td>0</td>\n",
              "    </tr>\n",
              "    <tr>\n",
              "      <th>3</th>\n",
              "      <td>CC1=C2C=C(C=CC2=NN1)C3=CC(=CN=C3)OCC(CC4=CC=CC...</td>\n",
              "      <td>PFWKILNPLLERGTYYYFMGQQPGKVLGDQRRPSLPALHFIKGAGK...</td>\n",
              "      <td>0</td>\n",
              "    </tr>\n",
              "    <tr>\n",
              "      <th>4</th>\n",
              "      <td>CC1=C2C=C(C=CC2=NN1)C3=CC(=CN=C3)OCC(CC4=CC=CC...</td>\n",
              "      <td>PFWKILNPLLERGTYYYFMGQQPGKVLGDQRRPSLPALHFIKGAGK...</td>\n",
              "      <td>0</td>\n",
              "    </tr>\n",
              "    <tr>\n",
              "      <th>...</th>\n",
              "      <td>...</td>\n",
              "      <td>...</td>\n",
              "      <td>...</td>\n",
              "    </tr>\n",
              "    <tr>\n",
              "      <th>30051</th>\n",
              "      <td>C1=CC=C2C(=C1)C(=NN=C2NC3=CC=C(C=C3)Cl)CC4=CC=...</td>\n",
              "      <td>MGCIKSKENKSPAIKYRPENTPEPVSTSVSHYGAEPTTVSPCPSSS...</td>\n",
              "      <td>0</td>\n",
              "    </tr>\n",
              "    <tr>\n",
              "      <th>30052</th>\n",
              "      <td>C1=CC=C2C(=C1)C(=NN=C2NC3=CC=C(C=C3)Cl)CC4=CC=...</td>\n",
              "      <td>MAHLRGFANQHSRVDPEELFTKLDRIGKGSFGEVYKGIDNHTKEVV...</td>\n",
              "      <td>0</td>\n",
              "    </tr>\n",
              "    <tr>\n",
              "      <th>30053</th>\n",
              "      <td>C1=CC=C2C(=C1)C(=NN=C2NC3=CC=C(C=C3)Cl)CC4=CC=...</td>\n",
              "      <td>MSSMPKPERHAESLLDICHDTNSSPTDLMTVTKNQNIILQSISRSE...</td>\n",
              "      <td>0</td>\n",
              "    </tr>\n",
              "    <tr>\n",
              "      <th>30054</th>\n",
              "      <td>C1=CC=C2C(=C1)C(=NN=C2NC3=CC=C(C=C3)Cl)CC4=CC=...</td>\n",
              "      <td>MSSLGASFVQIKFDDLQFFENCGGGSFGSVYRAKWISQDKEVAVKK...</td>\n",
              "      <td>0</td>\n",
              "    </tr>\n",
              "    <tr>\n",
              "      <th>30055</th>\n",
              "      <td>C1=CC=C2C(=C1)C(=NN=C2NC3=CC=C(C=C3)Cl)CC4=CC=...</td>\n",
              "      <td>MPDPAAHLPFFYGSISRAEAEEHLKLAGMADGLFLLRQCLRSLGGY...</td>\n",
              "      <td>0</td>\n",
              "    </tr>\n",
              "  </tbody>\n",
              "</table>\n",
              "<p>30056 rows × 3 columns</p>\n",
              "</div>\n",
              "      <button class=\"colab-df-convert\" onclick=\"convertToInteractive('df-1b58962e-0de6-47e0-89b1-a7ab9067f96e')\"\n",
              "              title=\"Convert this dataframe to an interactive table.\"\n",
              "              style=\"display:none;\">\n",
              "        \n",
              "  <svg xmlns=\"http://www.w3.org/2000/svg\" height=\"24px\"viewBox=\"0 0 24 24\"\n",
              "       width=\"24px\">\n",
              "    <path d=\"M0 0h24v24H0V0z\" fill=\"none\"/>\n",
              "    <path d=\"M18.56 5.44l.94 2.06.94-2.06 2.06-.94-2.06-.94-.94-2.06-.94 2.06-2.06.94zm-11 1L8.5 8.5l.94-2.06 2.06-.94-2.06-.94L8.5 2.5l-.94 2.06-2.06.94zm10 10l.94 2.06.94-2.06 2.06-.94-2.06-.94-.94-2.06-.94 2.06-2.06.94z\"/><path d=\"M17.41 7.96l-1.37-1.37c-.4-.4-.92-.59-1.43-.59-.52 0-1.04.2-1.43.59L10.3 9.45l-7.72 7.72c-.78.78-.78 2.05 0 2.83L4 21.41c.39.39.9.59 1.41.59.51 0 1.02-.2 1.41-.59l7.78-7.78 2.81-2.81c.8-.78.8-2.07 0-2.86zM5.41 20L4 18.59l7.72-7.72 1.47 1.35L5.41 20z\"/>\n",
              "  </svg>\n",
              "      </button>\n",
              "      \n",
              "  <style>\n",
              "    .colab-df-container {\n",
              "      display:flex;\n",
              "      flex-wrap:wrap;\n",
              "      gap: 12px;\n",
              "    }\n",
              "\n",
              "    .colab-df-convert {\n",
              "      background-color: #E8F0FE;\n",
              "      border: none;\n",
              "      border-radius: 50%;\n",
              "      cursor: pointer;\n",
              "      display: none;\n",
              "      fill: #1967D2;\n",
              "      height: 32px;\n",
              "      padding: 0 0 0 0;\n",
              "      width: 32px;\n",
              "    }\n",
              "\n",
              "    .colab-df-convert:hover {\n",
              "      background-color: #E2EBFA;\n",
              "      box-shadow: 0px 1px 2px rgba(60, 64, 67, 0.3), 0px 1px 3px 1px rgba(60, 64, 67, 0.15);\n",
              "      fill: #174EA6;\n",
              "    }\n",
              "\n",
              "    [theme=dark] .colab-df-convert {\n",
              "      background-color: #3B4455;\n",
              "      fill: #D2E3FC;\n",
              "    }\n",
              "\n",
              "    [theme=dark] .colab-df-convert:hover {\n",
              "      background-color: #434B5C;\n",
              "      box-shadow: 0px 1px 3px 1px rgba(0, 0, 0, 0.15);\n",
              "      filter: drop-shadow(0px 1px 2px rgba(0, 0, 0, 0.3));\n",
              "      fill: #FFFFFF;\n",
              "    }\n",
              "  </style>\n",
              "\n",
              "      <script>\n",
              "        const buttonEl =\n",
              "          document.querySelector('#df-1b58962e-0de6-47e0-89b1-a7ab9067f96e button.colab-df-convert');\n",
              "        buttonEl.style.display =\n",
              "          google.colab.kernel.accessAllowed ? 'block' : 'none';\n",
              "\n",
              "        async function convertToInteractive(key) {\n",
              "          const element = document.querySelector('#df-1b58962e-0de6-47e0-89b1-a7ab9067f96e');\n",
              "          const dataTable =\n",
              "            await google.colab.kernel.invokeFunction('convertToInteractive',\n",
              "                                                     [key], {});\n",
              "          if (!dataTable) return;\n",
              "\n",
              "          const docLinkHtml = 'Like what you see? Visit the ' +\n",
              "            '<a target=\"_blank\" href=https://colab.research.google.com/notebooks/data_table.ipynb>data table notebook</a>'\n",
              "            + ' to learn more about interactive tables.';\n",
              "          element.innerHTML = '';\n",
              "          dataTable['output_type'] = 'display_data';\n",
              "          await google.colab.output.renderOutput(dataTable, element);\n",
              "          const docLink = document.createElement('div');\n",
              "          docLink.innerHTML = docLinkHtml;\n",
              "          element.appendChild(docLink);\n",
              "        }\n",
              "      </script>\n",
              "    </div>\n",
              "  </div>\n",
              "  "
            ],
            "text/plain": [
              "                                                  SMILES  \\\n",
              "0      CC1=C2C=C(C=CC2=NN1)C3=CC(=CN=C3)OCC(CC4=CC=CC...   \n",
              "1      CC1=C2C=C(C=CC2=NN1)C3=CC(=CN=C3)OCC(CC4=CC=CC...   \n",
              "2      CC1=C2C=C(C=CC2=NN1)C3=CC(=CN=C3)OCC(CC4=CC=CC...   \n",
              "3      CC1=C2C=C(C=CC2=NN1)C3=CC(=CN=C3)OCC(CC4=CC=CC...   \n",
              "4      CC1=C2C=C(C=CC2=NN1)C3=CC(=CN=C3)OCC(CC4=CC=CC...   \n",
              "...                                                  ...   \n",
              "30051  C1=CC=C2C(=C1)C(=NN=C2NC3=CC=C(C=C3)Cl)CC4=CC=...   \n",
              "30052  C1=CC=C2C(=C1)C(=NN=C2NC3=CC=C(C=C3)Cl)CC4=CC=...   \n",
              "30053  C1=CC=C2C(=C1)C(=NN=C2NC3=CC=C(C=C3)Cl)CC4=CC=...   \n",
              "30054  C1=CC=C2C(=C1)C(=NN=C2NC3=CC=C(C=C3)Cl)CC4=CC=...   \n",
              "30055  C1=CC=C2C(=C1)C(=NN=C2NC3=CC=C(C=C3)Cl)CC4=CC=...   \n",
              "\n",
              "                                         Target Sequence  Label  \n",
              "0      MKKFFDSRREQGGSGLGSGSSGGGGSTSGLGSGYIGRVFGIGRQQV...      1  \n",
              "1      PFWKILNPLLERGTYYYFMGQQPGKVLGDQRRPSLPALHFIKGAGK...      0  \n",
              "2      PFWKILNPLLERGTYYYFMGQQPGKVLGDQRRPSLPALHFIKGAGK...      0  \n",
              "3      PFWKILNPLLERGTYYYFMGQQPGKVLGDQRRPSLPALHFIKGAGK...      0  \n",
              "4      PFWKILNPLLERGTYYYFMGQQPGKVLGDQRRPSLPALHFIKGAGK...      0  \n",
              "...                                                  ...    ...  \n",
              "30051  MGCIKSKENKSPAIKYRPENTPEPVSTSVSHYGAEPTTVSPCPSSS...      0  \n",
              "30052  MAHLRGFANQHSRVDPEELFTKLDRIGKGSFGEVYKGIDNHTKEVV...      0  \n",
              "30053  MSSMPKPERHAESLLDICHDTNSSPTDLMTVTKNQNIILQSISRSE...      0  \n",
              "30054  MSSLGASFVQIKFDDLQFFENCGGGSFGSVYRAKWISQDKEVAVKK...      0  \n",
              "30055  MPDPAAHLPFFYGSISRAEAEEHLKLAGMADGLFLLRQCLRSLGGY...      0  \n",
              "\n",
              "[30056 rows x 3 columns]"
            ]
          },
          "execution_count": 15,
          "metadata": {},
          "output_type": "execute_result"
        }
      ],
      "source": [
        "df_data"
      ]
    },
    {
      "cell_type": "code",
      "execution_count": null,
      "metadata": {
        "colab": {
          "base_uri": "https://localhost:8080/"
        },
        "id": "BsCihZx4QUHg",
        "outputId": "1d9e69e9-7384-434e-b24a-fd2fc28d2582"
      },
      "outputs": [
        {
          "name": "stdout",
          "output_type": "stream",
          "text": [
            "전체 drug-target pair 수: 30056\n"
          ]
        }
      ],
      "source": [
        "print(f'전체 drug-target pair 수: {str(len(df_data))}')"
      ]
    },
    {
      "cell_type": "code",
      "execution_count": null,
      "metadata": {
        "id": "b3F_UBiRqFsE"
      },
      "outputs": [],
      "source": []
    },
    {
      "cell_type": "code",
      "execution_count": null,
      "metadata": {
        "colab": {
          "base_uri": "https://localhost:8080/"
        },
        "id": "pYPCLKQlpybY",
        "outputId": "aa43572a-1b04-499e-8e87-02c55bada138"
      },
      "outputs": [
        {
          "data": {
            "text/plain": [
              "0    26434\n",
              "1     3622\n",
              "Name: Label, dtype: int64"
            ]
          },
          "execution_count": 17,
          "metadata": {},
          "output_type": "execute_result"
        }
      ],
      "source": [
        "# Label 비율 확인\n",
        "\n",
        "import seaborn as sns\n",
        "import matplotlib.pyplot as plt\n",
        "\n",
        "counts = df_data['Label'].value_counts() # label counts\n",
        "counts"
      ]
    },
    {
      "cell_type": "code",
      "execution_count": null,
      "metadata": {
        "colab": {
          "base_uri": "https://localhost:8080/",
          "height": 297
        },
        "id": "ipbqOP0jpR9z",
        "outputId": "a567a934-d022-4614-fb39-a2be9613e037"
      },
      "outputs": [
        {
          "data": {
            "text/plain": [
              "Text(0, 0.5, 'Counts')"
            ]
          },
          "execution_count": 18,
          "metadata": {},
          "output_type": "execute_result"
        },
        {
          "data": {
            "image/png": "[encoded data removed]",
            "text/plain": [
              "<Figure size 432x288 with 1 Axes>"
            ]
          },
          "metadata": {
            "needs_background": "light"
          },
          "output_type": "display_data"
        }
      ],
      "source": [
        "x = np.array([0,1]) \n",
        "\n",
        "ax = plt.subplot()\n",
        "sns.barplot(x, counts)\n",
        "ax.set_xticks(x)\n",
        "\n",
        "plt.xlabel(\"Label\")\n",
        "plt.ylabel(\"Counts\")"
      ]
    },
    {
      "cell_type": "markdown",
      "metadata": {
        "id": "qccQI9UMTWIj"
      },
      "source": [
        "**학습에 사용할 수 있도록 데이터 정제**"
      ]
    },
    {
      "cell_type": "code",
      "execution_count": null,
      "metadata": {
        "id": "a4NBYuwSz_BA"
      },
      "outputs": [],
      "source": [
        "# protein 데이터 padding 후 one-hot encding 진행"
      ]
    },
    {
      "cell_type": "code",
      "execution_count": null,
      "metadata": {
        "id": "I5xE87QCQUJ9"
      },
      "outputs": [],
      "source": [
        "### 데이터 정제를 위한 설정 \n",
        "\n",
        "# 아미노산 charater 정의\n",
        "amino_char = ['?', 'A', 'C', 'B', 'E', 'D', 'G', 'F', 'I', 'H', 'K', 'M', 'L', 'O',\n",
        "       'N', 'Q', 'P', 'S', 'R', 'U', 'T', 'W', 'V', 'Y', 'X', 'Z']\n",
        "\n",
        "# protein, drug 원핫(one-hot) 인코더\n",
        "enc_protein = OneHotEncoder().fit(np.array(amino_char).reshape(-1, 1))\n",
        "\n",
        "# Protein 최대 길이\n",
        "MAX_SEQ_PROTEIN = 1000\n"
      ]
    },
    {
      "cell_type": "code",
      "execution_count": null,
      "metadata": {
        "id": "wvu9_YGqQUON"
      },
      "outputs": [],
      "source": [
        "def trans_protein(x):\n",
        "\t\"\"\"Protein sequence 데이터 전처리하기\n",
        "\n",
        "\t같은 크기(MAX_SEQ_PROTEIN)의 리스트로 만들기\n",
        "\t사전 정의된 character에 해당 되지 않는 값은 ?로 변환\n",
        "\n",
        "\tArgs:\n",
        "\t\tx: 하나의 sequence 데이터 (string)\n",
        "\t\n",
        "\tReturn:\n",
        "\t\t전처리된 SMILES 데이터 리스트\n",
        "\t\"\"\"\n",
        "\n",
        "\ttemp = list(x.upper()) # 대문자로 바꾸기\n",
        "\ttemp = [i if i in amino_char else '?' for i in temp] # \n",
        "\n",
        "\tif len(temp) < MAX_SEQ_PROTEIN:\n",
        "\t\t# MAX_SEQ_PROTEIN 보다 작으면 뒷부분을 ?로 채워서 MAX_SEQ_DRUG 길이의 리스트로 만들기\n",
        "\t\ttemp = temp + ['?'] * (MAX_SEQ_PROTEIN-len(temp))\n",
        "\telse:\n",
        "\t\t# MAX_SEQ_PROTEIN 보다 크면 앞에서부터 MAX_SEQ_DRUG 만큼 슬라이싱\n",
        "\t\ttemp = temp [:MAX_SEQ_PROTEIN]\n",
        "\n",
        "\treturn temp"
      ]
    },
    {
      "cell_type": "code",
      "execution_count": null,
      "metadata": {
        "id": "k414eVC1QUSM"
      },
      "outputs": [],
      "source": [
        "# Protein 데이터 중 중복되지 않는 것만 processing\n",
        "AA = pd.Series(df_data[\"Target Sequence\"].unique()).apply(trans_protein)\n",
        "\n",
        "# raw protein - processed protein 딕셔너리 \n",
        "AA_dict = dict(zip(df_data[\"Target Sequence\"].unique(), AA))\n",
        "\n",
        "# 전체 데이터 processing\n",
        "df_data[\"target_encoding\"] = [AA_dict[i] for i in df_data[\"Target Sequence\"]]"
      ]
    },
    {
      "cell_type": "code",
      "execution_count": null,
      "metadata": {
        "id": "QlNHO79sQUUM"
      },
      "outputs": [],
      "source": []
    },
    {
      "cell_type": "markdown",
      "metadata": {
        "id": "_0qSxxQYY3Wb"
      },
      "source": [
        "**데이터 나누기 (Train / Validation / Test)**"
      ]
    },
    {
      "cell_type": "code",
      "execution_count": null,
      "metadata": {
        "id": "4G_QG70TQUWT"
      },
      "outputs": [],
      "source": [
        "def create_fold(df, fold_seed, frac):\n",
        "    \"\"\"Train / Val / Test 나누기\n",
        "\n",
        "    Args:\n",
        "        df: 전체 데이터 (Pandas DataFrame)\n",
        "        fold_seed: random_state for random sampling\n",
        "        frac: train - val - test fraction (list or tuple) ex) [0.7,0.1,0.2]\n",
        "    \n",
        "    Returns:\n",
        "        Train / Val / Test dataframe (tuple)\n",
        "    \"\"\"\n",
        "    train_frac, val_frac, test_frac = frac \n",
        "\n",
        "    # Test 데이터 random sampling\n",
        "    test = df.sample(frac = test_frac, replace = False, random_state = fold_seed)\n",
        "    train_val = df[~df.index.isin(test.index)] # Train & Validation 데이터 \n",
        "\n",
        "    # Validation 데이터 random sampling\n",
        "    val = train_val.sample(frac = val_frac/(1-test_frac), replace = False, random_state = 1)\n",
        "    train = train_val[~train_val.index.isin(val.index)] # Train 데이터\n",
        "    \n",
        "    return train, val, test"
      ]
    },
    {
      "cell_type": "code",
      "execution_count": null,
      "metadata": {
        "id": "LzQO9rodQUYV"
      },
      "outputs": [],
      "source": [
        "train, val, test = create_fold(df_data, 22, [0.7,0.1,0.2])"
      ]
    },
    {
      "cell_type": "code",
      "execution_count": null,
      "metadata": {
        "colab": {
          "base_uri": "https://localhost:8080/"
        },
        "id": "teuKQCvJQUad",
        "outputId": "f29968a9-3946-486b-ae38-db7345279e9b"
      },
      "outputs": [
        {
          "name": "stdout",
          "output_type": "stream",
          "text": [
            "Train 데이터 크기: 21039\n",
            "Validation 데이터 크기: 3006\n",
            "Test 데이터 크기: 6011\n"
          ]
        }
      ],
      "source": [
        "# 잘 나누어졌는지 확인\n",
        "\n",
        "print(f'Train 데이터 크기: {len(train)}')\n",
        "print(f'Validation 데이터 크기: {len(val)}')\n",
        "print(f'Test 데이터 크기: {len(test)}')"
      ]
    },
    {
      "cell_type": "code",
      "execution_count": null,
      "metadata": {
        "colab": {
          "base_uri": "https://localhost:8080/",
          "height": 424
        },
        "id": "XrWMK7EhL-pv",
        "outputId": "86dbed4d-5ffb-402c-9fe2-adf4a2150c0b"
      },
      "outputs": [
        {
          "data": {
            "text/html": [
              "\n",
              "  <div id=\"df-86afd430-9b66-4d76-8b56-bc13cabd710a\">\n",
              "    <div class=\"colab-df-container\">\n",
              "      <div>\n",
              "<style scoped>\n",
              "    .dataframe tbody tr th:only-of-type {\n",
              "        vertical-align: middle;\n",
              "    }\n",
              "\n",
              "    .dataframe tbody tr th {\n",
              "        vertical-align: top;\n",
              "    }\n",
              "\n",
              "    .dataframe thead th {\n",
              "        text-align: right;\n",
              "    }\n",
              "</style>\n",
              "<table border=\"1\" class=\"dataframe\">\n",
              "  <thead>\n",
              "    <tr style=\"text-align: right;\">\n",
              "      <th></th>\n",
              "      <th>SMILES</th>\n",
              "      <th>Target Sequence</th>\n",
              "      <th>Label</th>\n",
              "      <th>target_encoding</th>\n",
              "    </tr>\n",
              "  </thead>\n",
              "  <tbody>\n",
              "    <tr>\n",
              "      <th>2</th>\n",
              "      <td>CC1=C2C=C(C=CC2=NN1)C3=CC(=CN=C3)OCC(CC4=CC=CC...</td>\n",
              "      <td>PFWKILNPLLERGTYYYFMGQQPGKVLGDQRRPSLPALHFIKGAGK...</td>\n",
              "      <td>0</td>\n",
              "      <td>[P, F, W, K, I, L, N, P, L, L, E, R, G, T, Y, ...</td>\n",
              "    </tr>\n",
              "    <tr>\n",
              "      <th>5</th>\n",
              "      <td>CC1=C2C=C(C=CC2=NN1)C3=CC(=CN=C3)OCC(CC4=CC=CC...</td>\n",
              "      <td>PFWKILNPLLERGTYYYFMGQQPGKVLGDQRRPSLPALHFIKGAGK...</td>\n",
              "      <td>0</td>\n",
              "      <td>[P, F, W, K, I, L, N, P, L, L, E, R, G, T, Y, ...</td>\n",
              "    </tr>\n",
              "    <tr>\n",
              "      <th>6</th>\n",
              "      <td>CC1=C2C=C(C=CC2=NN1)C3=CC(=CN=C3)OCC(CC4=CC=CC...</td>\n",
              "      <td>PFWKILNPLLERGTYYYFMGQQPGKVLGDQRRPSLPALHFIKGAGK...</td>\n",
              "      <td>0</td>\n",
              "      <td>[P, F, W, K, I, L, N, P, L, L, E, R, G, T, Y, ...</td>\n",
              "    </tr>\n",
              "    <tr>\n",
              "      <th>7</th>\n",
              "      <td>CC1=C2C=C(C=CC2=NN1)C3=CC(=CN=C3)OCC(CC4=CC=CC...</td>\n",
              "      <td>PFWKILNPLLERGTYYYFMGQQPGKVLGDQRRPSLPALHFIKGAGK...</td>\n",
              "      <td>0</td>\n",
              "      <td>[P, F, W, K, I, L, N, P, L, L, E, R, G, T, Y, ...</td>\n",
              "    </tr>\n",
              "    <tr>\n",
              "      <th>9</th>\n",
              "      <td>CC1=C2C=C(C=CC2=NN1)C3=CC(=CN=C3)OCC(CC4=CC=CC...</td>\n",
              "      <td>PFWKILNPLLERGTYYYFMGQQPGKVLGDQRRPSLPALHFIKGAGK...</td>\n",
              "      <td>0</td>\n",
              "      <td>[P, F, W, K, I, L, N, P, L, L, E, R, G, T, Y, ...</td>\n",
              "    </tr>\n",
              "    <tr>\n",
              "      <th>...</th>\n",
              "      <td>...</td>\n",
              "      <td>...</td>\n",
              "      <td>...</td>\n",
              "      <td>...</td>\n",
              "    </tr>\n",
              "    <tr>\n",
              "      <th>30049</th>\n",
              "      <td>C1=CC=C2C(=C1)C(=NN=C2NC3=CC=C(C=C3)Cl)CC4=CC=...</td>\n",
              "      <td>MGGNHSHKPPVFDENEEVNFDHFQILRAIGKGSFGKVCIVQKRDTK...</td>\n",
              "      <td>0</td>\n",
              "      <td>[M, G, G, N, H, S, H, K, P, P, V, F, D, E, N, ...</td>\n",
              "    </tr>\n",
              "    <tr>\n",
              "      <th>30051</th>\n",
              "      <td>C1=CC=C2C(=C1)C(=NN=C2NC3=CC=C(C=C3)Cl)CC4=CC=...</td>\n",
              "      <td>MGCIKSKENKSPAIKYRPENTPEPVSTSVSHYGAEPTTVSPCPSSS...</td>\n",
              "      <td>0</td>\n",
              "      <td>[M, G, C, I, K, S, K, E, N, K, S, P, A, I, K, ...</td>\n",
              "    </tr>\n",
              "    <tr>\n",
              "      <th>30052</th>\n",
              "      <td>C1=CC=C2C(=C1)C(=NN=C2NC3=CC=C(C=C3)Cl)CC4=CC=...</td>\n",
              "      <td>MAHLRGFANQHSRVDPEELFTKLDRIGKGSFGEVYKGIDNHTKEVV...</td>\n",
              "      <td>0</td>\n",
              "      <td>[M, A, H, L, R, G, F, A, N, Q, H, S, R, V, D, ...</td>\n",
              "    </tr>\n",
              "    <tr>\n",
              "      <th>30053</th>\n",
              "      <td>C1=CC=C2C(=C1)C(=NN=C2NC3=CC=C(C=C3)Cl)CC4=CC=...</td>\n",
              "      <td>MSSMPKPERHAESLLDICHDTNSSPTDLMTVTKNQNIILQSISRSE...</td>\n",
              "      <td>0</td>\n",
              "      <td>[M, S, S, M, P, K, P, E, R, H, A, E, S, L, L, ...</td>\n",
              "    </tr>\n",
              "    <tr>\n",
              "      <th>30055</th>\n",
              "      <td>C1=CC=C2C(=C1)C(=NN=C2NC3=CC=C(C=C3)Cl)CC4=CC=...</td>\n",
              "      <td>MPDPAAHLPFFYGSISRAEAEEHLKLAGMADGLFLLRQCLRSLGGY...</td>\n",
              "      <td>0</td>\n",
              "      <td>[M, P, D, P, A, A, H, L, P, F, F, Y, G, S, I, ...</td>\n",
              "    </tr>\n",
              "  </tbody>\n",
              "</table>\n",
              "<p>21039 rows × 4 columns</p>\n",
              "</div>\n",
              "      <button class=\"colab-df-convert\" onclick=\"convertToInteractive('df-86afd430-9b66-4d76-8b56-bc13cabd710a')\"\n",
              "              title=\"Convert this dataframe to an interactive table.\"\n",
              "              style=\"display:none;\">\n",
              "        \n",
              "  <svg xmlns=\"http://www.w3.org/2000/svg\" height=\"24px\"viewBox=\"0 0 24 24\"\n",
              "       width=\"24px\">\n",
              "    <path d=\"M0 0h24v24H0V0z\" fill=\"none\"/>\n",
              "    <path d=\"M18.56 5.44l.94 2.06.94-2.06 2.06-.94-2.06-.94-.94-2.06-.94 2.06-2.06.94zm-11 1L8.5 8.5l.94-2.06 2.06-.94-2.06-.94L8.5 2.5l-.94 2.06-2.06.94zm10 10l.94 2.06.94-2.06 2.06-.94-2.06-.94-.94-2.06-.94 2.06-2.06.94z\"/><path d=\"M17.41 7.96l-1.37-1.37c-.4-.4-.92-.59-1.43-.59-.52 0-1.04.2-1.43.59L10.3 9.45l-7.72 7.72c-.78.78-.78 2.05 0 2.83L4 21.41c.39.39.9.59 1.41.59.51 0 1.02-.2 1.41-.59l7.78-7.78 2.81-2.81c.8-.78.8-2.07 0-2.86zM5.41 20L4 18.59l7.72-7.72 1.47 1.35L5.41 20z\"/>\n",
              "  </svg>\n",
              "      </button>\n",
              "      \n",
              "  <style>\n",
              "    .colab-df-container {\n",
              "      display:flex;\n",
              "      flex-wrap:wrap;\n",
              "      gap: 12px;\n",
              "    }\n",
              "\n",
              "    .colab-df-convert {\n",
              "      background-color: #E8F0FE;\n",
              "      border: none;\n",
              "      border-radius: 50%;\n",
              "      cursor: pointer;\n",
              "      display: none;\n",
              "      fill: #1967D2;\n",
              "      height: 32px;\n",
              "      padding: 0 0 0 0;\n",
              "      width: 32px;\n",
              "    }\n",
              "\n",
              "    .colab-df-convert:hover {\n",
              "      background-color: #E2EBFA;\n",
              "      box-shadow: 0px 1px 2px rgba(60, 64, 67, 0.3), 0px 1px 3px 1px rgba(60, 64, 67, 0.15);\n",
              "      fill: #174EA6;\n",
              "    }\n",
              "\n",
              "    [theme=dark] .colab-df-convert {\n",
              "      background-color: #3B4455;\n",
              "      fill: #D2E3FC;\n",
              "    }\n",
              "\n",
              "    [theme=dark] .colab-df-convert:hover {\n",
              "      background-color: #434B5C;\n",
              "      box-shadow: 0px 1px 3px 1px rgba(0, 0, 0, 0.15);\n",
              "      filter: drop-shadow(0px 1px 2px rgba(0, 0, 0, 0.3));\n",
              "      fill: #FFFFFF;\n",
              "    }\n",
              "  </style>\n",
              "\n",
              "      <script>\n",
              "        const buttonEl =\n",
              "          document.querySelector('#df-86afd430-9b66-4d76-8b56-bc13cabd710a button.colab-df-convert');\n",
              "        buttonEl.style.display =\n",
              "          google.colab.kernel.accessAllowed ? 'block' : 'none';\n",
              "\n",
              "        async function convertToInteractive(key) {\n",
              "          const element = document.querySelector('#df-86afd430-9b66-4d76-8b56-bc13cabd710a');\n",
              "          const dataTable =\n",
              "            await google.colab.kernel.invokeFunction('convertToInteractive',\n",
              "                                                     [key], {});\n",
              "          if (!dataTable) return;\n",
              "\n",
              "          const docLinkHtml = 'Like what you see? Visit the ' +\n",
              "            '<a target=\"_blank\" href=https://colab.research.google.com/notebooks/data_table.ipynb>data table notebook</a>'\n",
              "            + ' to learn more about interactive tables.';\n",
              "          element.innerHTML = '';\n",
              "          dataTable['output_type'] = 'display_data';\n",
              "          await google.colab.output.renderOutput(dataTable, element);\n",
              "          const docLink = document.createElement('div');\n",
              "          docLink.innerHTML = docLinkHtml;\n",
              "          element.appendChild(docLink);\n",
              "        }\n",
              "      </script>\n",
              "    </div>\n",
              "  </div>\n",
              "  "
            ],
            "text/plain": [
              "                                                  SMILES  \\\n",
              "2      CC1=C2C=C(C=CC2=NN1)C3=CC(=CN=C3)OCC(CC4=CC=CC...   \n",
              "5      CC1=C2C=C(C=CC2=NN1)C3=CC(=CN=C3)OCC(CC4=CC=CC...   \n",
              "6      CC1=C2C=C(C=CC2=NN1)C3=CC(=CN=C3)OCC(CC4=CC=CC...   \n",
              "7      CC1=C2C=C(C=CC2=NN1)C3=CC(=CN=C3)OCC(CC4=CC=CC...   \n",
              "9      CC1=C2C=C(C=CC2=NN1)C3=CC(=CN=C3)OCC(CC4=CC=CC...   \n",
              "...                                                  ...   \n",
              "30049  C1=CC=C2C(=C1)C(=NN=C2NC3=CC=C(C=C3)Cl)CC4=CC=...   \n",
              "30051  C1=CC=C2C(=C1)C(=NN=C2NC3=CC=C(C=C3)Cl)CC4=CC=...   \n",
              "30052  C1=CC=C2C(=C1)C(=NN=C2NC3=CC=C(C=C3)Cl)CC4=CC=...   \n",
              "30053  C1=CC=C2C(=C1)C(=NN=C2NC3=CC=C(C=C3)Cl)CC4=CC=...   \n",
              "30055  C1=CC=C2C(=C1)C(=NN=C2NC3=CC=C(C=C3)Cl)CC4=CC=...   \n",
              "\n",
              "                                         Target Sequence  Label  \\\n",
              "2      PFWKILNPLLERGTYYYFMGQQPGKVLGDQRRPSLPALHFIKGAGK...      0   \n",
              "5      PFWKILNPLLERGTYYYFMGQQPGKVLGDQRRPSLPALHFIKGAGK...      0   \n",
              "6      PFWKILNPLLERGTYYYFMGQQPGKVLGDQRRPSLPALHFIKGAGK...      0   \n",
              "7      PFWKILNPLLERGTYYYFMGQQPGKVLGDQRRPSLPALHFIKGAGK...      0   \n",
              "9      PFWKILNPLLERGTYYYFMGQQPGKVLGDQRRPSLPALHFIKGAGK...      0   \n",
              "...                                                  ...    ...   \n",
              "30049  MGGNHSHKPPVFDENEEVNFDHFQILRAIGKGSFGKVCIVQKRDTK...      0   \n",
              "30051  MGCIKSKENKSPAIKYRPENTPEPVSTSVSHYGAEPTTVSPCPSSS...      0   \n",
              "30052  MAHLRGFANQHSRVDPEELFTKLDRIGKGSFGEVYKGIDNHTKEVV...      0   \n",
              "30053  MSSMPKPERHAESLLDICHDTNSSPTDLMTVTKNQNIILQSISRSE...      0   \n",
              "30055  MPDPAAHLPFFYGSISRAEAEEHLKLAGMADGLFLLRQCLRSLGGY...      0   \n",
              "\n",
              "                                         target_encoding  \n",
              "2      [P, F, W, K, I, L, N, P, L, L, E, R, G, T, Y, ...  \n",
              "5      [P, F, W, K, I, L, N, P, L, L, E, R, G, T, Y, ...  \n",
              "6      [P, F, W, K, I, L, N, P, L, L, E, R, G, T, Y, ...  \n",
              "7      [P, F, W, K, I, L, N, P, L, L, E, R, G, T, Y, ...  \n",
              "9      [P, F, W, K, I, L, N, P, L, L, E, R, G, T, Y, ...  \n",
              "...                                                  ...  \n",
              "30049  [M, G, G, N, H, S, H, K, P, P, V, F, D, E, N, ...  \n",
              "30051  [M, G, C, I, K, S, K, E, N, K, S, P, A, I, K, ...  \n",
              "30052  [M, A, H, L, R, G, F, A, N, Q, H, S, R, V, D, ...  \n",
              "30053  [M, S, S, M, P, K, P, E, R, H, A, E, S, L, L, ...  \n",
              "30055  [M, P, D, P, A, A, H, L, P, F, F, Y, G, S, I, ...  \n",
              "\n",
              "[21039 rows x 4 columns]"
            ]
          },
          "execution_count": 26,
          "metadata": {},
          "output_type": "execute_result"
        }
      ],
      "source": [
        "train"
      ]
    },
    {
      "cell_type": "code",
      "execution_count": null,
      "metadata": {
        "colab": {
          "base_uri": "https://localhost:8080/",
          "height": 424
        },
        "id": "wvLusMviTtHt",
        "outputId": "865d9dbd-c81f-4a4f-91d4-e4c43eb78365"
      },
      "outputs": [
        {
          "data": {
            "text/html": [
              "\n",
              "  <div id=\"df-f40dfe80-e805-4247-93c7-ce726518c0da\">\n",
              "    <div class=\"colab-df-container\">\n",
              "      <div>\n",
              "<style scoped>\n",
              "    .dataframe tbody tr th:only-of-type {\n",
              "        vertical-align: middle;\n",
              "    }\n",
              "\n",
              "    .dataframe tbody tr th {\n",
              "        vertical-align: top;\n",
              "    }\n",
              "\n",
              "    .dataframe thead th {\n",
              "        text-align: right;\n",
              "    }\n",
              "</style>\n",
              "<table border=\"1\" class=\"dataframe\">\n",
              "  <thead>\n",
              "    <tr style=\"text-align: right;\">\n",
              "      <th></th>\n",
              "      <th>SMILES</th>\n",
              "      <th>Target Sequence</th>\n",
              "      <th>Label</th>\n",
              "      <th>target_encoding</th>\n",
              "    </tr>\n",
              "  </thead>\n",
              "  <tbody>\n",
              "    <tr>\n",
              "      <th>8608</th>\n",
              "      <td>CC(C(=O)O)O.CN1CCN(CC1)C2=CC3=C(C=C2)NC(=C4C(=...</td>\n",
              "      <td>MGCGCSSHPEDDWMENIDVCENCHYPIVPLDGKGTLLIRNGSEVRD...</td>\n",
              "      <td>1</td>\n",
              "      <td>[M, G, C, G, C, S, S, H, P, E, D, D, W, M, E, ...</td>\n",
              "    </tr>\n",
              "    <tr>\n",
              "      <th>27230</th>\n",
              "      <td>CC(C)OC1=CC=C(C=C1)NC(=O)N2CCN(CC2)C3=NC=NC4=C...</td>\n",
              "      <td>MFPLIGKTIIFDNFPDPSDTWEITETIGKGTYGKVFKVLNKKNGQK...</td>\n",
              "      <td>0</td>\n",
              "      <td>[M, F, P, L, I, G, K, T, I, I, F, D, N, F, P, ...</td>\n",
              "    </tr>\n",
              "    <tr>\n",
              "      <th>14040</th>\n",
              "      <td>CC12C(CC(O1)N3C4=CC=CC=C4C5=C6C(=C7C8=CC=CC=C8...</td>\n",
              "      <td>MATCIGEKIEDFKVGNLLGKGSFAGVYRAESIHTGLEVAIKMIDKK...</td>\n",
              "      <td>1</td>\n",
              "      <td>[M, A, T, C, I, G, E, K, I, E, D, F, K, V, G, ...</td>\n",
              "    </tr>\n",
              "    <tr>\n",
              "      <th>20504</th>\n",
              "      <td>CS(=O)(=O)N1CCN(CC1)CC2=CC3=C(S2)C(=NC(=N3)C4=...</td>\n",
              "      <td>MVDMGALDNLIANTAYLQARKPSDCDSKELQRRRRSLALPGLQGCA...</td>\n",
              "      <td>0</td>\n",
              "      <td>[M, V, D, M, G, A, L, D, N, L, I, A, N, T, A, ...</td>\n",
              "    </tr>\n",
              "    <tr>\n",
              "      <th>17422</th>\n",
              "      <td>CC1=C(C=C(C=C1)C(=O)NC2=CC(=CC(=C2)N3C=C(N=C3)...</td>\n",
              "      <td>MERPPGLRPGAGGPWEMRERLGTGGFGNVCLYQHRELDLKIAIKSC...</td>\n",
              "      <td>0</td>\n",
              "      <td>[M, E, R, P, P, G, L, R, P, G, A, G, G, P, W, ...</td>\n",
              "    </tr>\n",
              "    <tr>\n",
              "      <th>...</th>\n",
              "      <td>...</td>\n",
              "      <td>...</td>\n",
              "      <td>...</td>\n",
              "      <td>...</td>\n",
              "    </tr>\n",
              "    <tr>\n",
              "      <th>10480</th>\n",
              "      <td>C1CC(=NO)C2=C1C=C(C=C2)C3=CN(N=C3C4=CC=NC=C4)CCO</td>\n",
              "      <td>TMPPRPSSGELWGIHLMPPRILVECLLPNGMIVTLECLREATLITI...</td>\n",
              "      <td>0</td>\n",
              "      <td>[T, M, P, P, R, P, S, S, G, E, L, W, G, I, H, ...</td>\n",
              "    </tr>\n",
              "    <tr>\n",
              "      <th>17736</th>\n",
              "      <td>CN1C2=NC(=NC=C2C=C(C1=O)C3=C(C=CC=C3Cl)Cl)NC4=...</td>\n",
              "      <td>MATTATCTRFTDDYQLFEELGKGAFSVVRRCVKKTSTQEYAAKIIN...</td>\n",
              "      <td>0</td>\n",
              "      <td>[M, A, T, T, A, T, C, T, R, F, T, D, D, Y, Q, ...</td>\n",
              "    </tr>\n",
              "    <tr>\n",
              "      <th>16058</th>\n",
              "      <td>CC12C(C(CC(O1)N3C4=CC=CC=C4C5=C6C(=C7C8=CC=CC=...</td>\n",
              "      <td>MCTVVDPRIVRRYLLRRQLGQGAYGIVWKAVDRRTGEVVAIKKIFD...</td>\n",
              "      <td>0</td>\n",
              "      <td>[M, C, T, V, V, D, P, R, I, V, R, R, Y, L, L, ...</td>\n",
              "    </tr>\n",
              "    <tr>\n",
              "      <th>7082</th>\n",
              "      <td>CC(C1=C(C=CC(=C1Cl)F)Cl)OC2=C(N=CC(=C2)C3=CN(N...</td>\n",
              "      <td>PFWKILNPLLERGTYYYFMGQQPGKVLGDQRRPSLPALHFIKGAGK...</td>\n",
              "      <td>1</td>\n",
              "      <td>[P, F, W, K, I, L, N, P, L, L, E, R, G, T, Y, ...</td>\n",
              "    </tr>\n",
              "    <tr>\n",
              "      <th>19587</th>\n",
              "      <td>CC(C)N1C2=C(C(=C3C=C4C=C(C=CC4=N3)O)N1)C(=NC=N2)N</td>\n",
              "      <td>MRANDALQVLGLLFSLARGSEVGNSQAVCPGTLNGLSVTGDAENQY...</td>\n",
              "      <td>1</td>\n",
              "      <td>[M, R, A, N, D, A, L, Q, V, L, G, L, L, F, S, ...</td>\n",
              "    </tr>\n",
              "  </tbody>\n",
              "</table>\n",
              "<p>3006 rows × 4 columns</p>\n",
              "</div>\n",
              "      <button class=\"colab-df-convert\" onclick=\"convertToInteractive('df-f40dfe80-e805-4247-93c7-ce726518c0da')\"\n",
              "              title=\"Convert this dataframe to an interactive table.\"\n",
              "              style=\"display:none;\">\n",
              "        \n",
              "  <svg xmlns=\"http://www.w3.org/2000/svg\" height=\"24px\"viewBox=\"0 0 24 24\"\n",
              "       width=\"24px\">\n",
              "    <path d=\"M0 0h24v24H0V0z\" fill=\"none\"/>\n",
              "    <path d=\"M18.56 5.44l.94 2.06.94-2.06 2.06-.94-2.06-.94-.94-2.06-.94 2.06-2.06.94zm-11 1L8.5 8.5l.94-2.06 2.06-.94-2.06-.94L8.5 2.5l-.94 2.06-2.06.94zm10 10l.94 2.06.94-2.06 2.06-.94-2.06-.94-.94-2.06-.94 2.06-2.06.94z\"/><path d=\"M17.41 7.96l-1.37-1.37c-.4-.4-.92-.59-1.43-.59-.52 0-1.04.2-1.43.59L10.3 9.45l-7.72 7.72c-.78.78-.78 2.05 0 2.83L4 21.41c.39.39.9.59 1.41.59.51 0 1.02-.2 1.41-.59l7.78-7.78 2.81-2.81c.8-.78.8-2.07 0-2.86zM5.41 20L4 18.59l7.72-7.72 1.47 1.35L5.41 20z\"/>\n",
              "  </svg>\n",
              "      </button>\n",
              "      \n",
              "  <style>\n",
              "    .colab-df-container {\n",
              "      display:flex;\n",
              "      flex-wrap:wrap;\n",
              "      gap: 12px;\n",
              "    }\n",
              "\n",
              "    .colab-df-convert {\n",
              "      background-color: #E8F0FE;\n",
              "      border: none;\n",
              "      border-radius: 50%;\n",
              "      cursor: pointer;\n",
              "      display: none;\n",
              "      fill: #1967D2;\n",
              "      height: 32px;\n",
              "      padding: 0 0 0 0;\n",
              "      width: 32px;\n",
              "    }\n",
              "\n",
              "    .colab-df-convert:hover {\n",
              "      background-color: #E2EBFA;\n",
              "      box-shadow: 0px 1px 2px rgba(60, 64, 67, 0.3), 0px 1px 3px 1px rgba(60, 64, 67, 0.15);\n",
              "      fill: #174EA6;\n",
              "    }\n",
              "\n",
              "    [theme=dark] .colab-df-convert {\n",
              "      background-color: #3B4455;\n",
              "      fill: #D2E3FC;\n",
              "    }\n",
              "\n",
              "    [theme=dark] .colab-df-convert:hover {\n",
              "      background-color: #434B5C;\n",
              "      box-shadow: 0px 1px 3px 1px rgba(0, 0, 0, 0.15);\n",
              "      filter: drop-shadow(0px 1px 2px rgba(0, 0, 0, 0.3));\n",
              "      fill: #FFFFFF;\n",
              "    }\n",
              "  </style>\n",
              "\n",
              "      <script>\n",
              "        const buttonEl =\n",
              "          document.querySelector('#df-f40dfe80-e805-4247-93c7-ce726518c0da button.colab-df-convert');\n",
              "        buttonEl.style.display =\n",
              "          google.colab.kernel.accessAllowed ? 'block' : 'none';\n",
              "\n",
              "        async function convertToInteractive(key) {\n",
              "          const element = document.querySelector('#df-f40dfe80-e805-4247-93c7-ce726518c0da');\n",
              "          const dataTable =\n",
              "            await google.colab.kernel.invokeFunction('convertToInteractive',\n",
              "                                                     [key], {});\n",
              "          if (!dataTable) return;\n",
              "\n",
              "          const docLinkHtml = 'Like what you see? Visit the ' +\n",
              "            '<a target=\"_blank\" href=https://colab.research.google.com/notebooks/data_table.ipynb>data table notebook</a>'\n",
              "            + ' to learn more about interactive tables.';\n",
              "          element.innerHTML = '';\n",
              "          dataTable['output_type'] = 'display_data';\n",
              "          await google.colab.output.renderOutput(dataTable, element);\n",
              "          const docLink = document.createElement('div');\n",
              "          docLink.innerHTML = docLinkHtml;\n",
              "          element.appendChild(docLink);\n",
              "        }\n",
              "      </script>\n",
              "    </div>\n",
              "  </div>\n",
              "  "
            ],
            "text/plain": [
              "                                                  SMILES  \\\n",
              "8608   CC(C(=O)O)O.CN1CCN(CC1)C2=CC3=C(C=C2)NC(=C4C(=...   \n",
              "27230  CC(C)OC1=CC=C(C=C1)NC(=O)N2CCN(CC2)C3=NC=NC4=C...   \n",
              "14040  CC12C(CC(O1)N3C4=CC=CC=C4C5=C6C(=C7C8=CC=CC=C8...   \n",
              "20504  CS(=O)(=O)N1CCN(CC1)CC2=CC3=C(S2)C(=NC(=N3)C4=...   \n",
              "17422  CC1=C(C=C(C=C1)C(=O)NC2=CC(=CC(=C2)N3C=C(N=C3)...   \n",
              "...                                                  ...   \n",
              "10480   C1CC(=NO)C2=C1C=C(C=C2)C3=CN(N=C3C4=CC=NC=C4)CCO   \n",
              "17736  CN1C2=NC(=NC=C2C=C(C1=O)C3=C(C=CC=C3Cl)Cl)NC4=...   \n",
              "16058  CC12C(C(CC(O1)N3C4=CC=CC=C4C5=C6C(=C7C8=CC=CC=...   \n",
              "7082   CC(C1=C(C=CC(=C1Cl)F)Cl)OC2=C(N=CC(=C2)C3=CN(N...   \n",
              "19587  CC(C)N1C2=C(C(=C3C=C4C=C(C=CC4=N3)O)N1)C(=NC=N2)N   \n",
              "\n",
              "                                         Target Sequence  Label  \\\n",
              "8608   MGCGCSSHPEDDWMENIDVCENCHYPIVPLDGKGTLLIRNGSEVRD...      1   \n",
              "27230  MFPLIGKTIIFDNFPDPSDTWEITETIGKGTYGKVFKVLNKKNGQK...      0   \n",
              "14040  MATCIGEKIEDFKVGNLLGKGSFAGVYRAESIHTGLEVAIKMIDKK...      1   \n",
              "20504  MVDMGALDNLIANTAYLQARKPSDCDSKELQRRRRSLALPGLQGCA...      0   \n",
              "17422  MERPPGLRPGAGGPWEMRERLGTGGFGNVCLYQHRELDLKIAIKSC...      0   \n",
              "...                                                  ...    ...   \n",
              "10480  TMPPRPSSGELWGIHLMPPRILVECLLPNGMIVTLECLREATLITI...      0   \n",
              "17736  MATTATCTRFTDDYQLFEELGKGAFSVVRRCVKKTSTQEYAAKIIN...      0   \n",
              "16058  MCTVVDPRIVRRYLLRRQLGQGAYGIVWKAVDRRTGEVVAIKKIFD...      0   \n",
              "7082   PFWKILNPLLERGTYYYFMGQQPGKVLGDQRRPSLPALHFIKGAGK...      1   \n",
              "19587  MRANDALQVLGLLFSLARGSEVGNSQAVCPGTLNGLSVTGDAENQY...      1   \n",
              "\n",
              "                                         target_encoding  \n",
              "8608   [M, G, C, G, C, S, S, H, P, E, D, D, W, M, E, ...  \n",
              "27230  [M, F, P, L, I, G, K, T, I, I, F, D, N, F, P, ...  \n",
              "14040  [M, A, T, C, I, G, E, K, I, E, D, F, K, V, G, ...  \n",
              "20504  [M, V, D, M, G, A, L, D, N, L, I, A, N, T, A, ...  \n",
              "17422  [M, E, R, P, P, G, L, R, P, G, A, G, G, P, W, ...  \n",
              "...                                                  ...  \n",
              "10480  [T, M, P, P, R, P, S, S, G, E, L, W, G, I, H, ...  \n",
              "17736  [M, A, T, T, A, T, C, T, R, F, T, D, D, Y, Q, ...  \n",
              "16058  [M, C, T, V, V, D, P, R, I, V, R, R, Y, L, L, ...  \n",
              "7082   [P, F, W, K, I, L, N, P, L, L, E, R, G, T, Y, ...  \n",
              "19587  [M, R, A, N, D, A, L, Q, V, L, G, L, L, F, S, ...  \n",
              "\n",
              "[3006 rows x 4 columns]"
            ]
          },
          "execution_count": 27,
          "metadata": {},
          "output_type": "execute_result"
        }
      ],
      "source": [
        "val"
      ]
    },
    {
      "cell_type": "code",
      "execution_count": null,
      "metadata": {
        "colab": {
          "base_uri": "https://localhost:8080/",
          "height": 424
        },
        "id": "CnYLUlLBTtKB",
        "outputId": "5dcfcf0b-99c4-4aaf-ddb3-37bf55be86da"
      },
      "outputs": [
        {
          "data": {
            "text/html": [
              "\n",
              "  <div id=\"df-7abce887-0760-42cd-a867-349396a2f1c3\">\n",
              "    <div class=\"colab-df-container\">\n",
              "      <div>\n",
              "<style scoped>\n",
              "    .dataframe tbody tr th:only-of-type {\n",
              "        vertical-align: middle;\n",
              "    }\n",
              "\n",
              "    .dataframe tbody tr th {\n",
              "        vertical-align: top;\n",
              "    }\n",
              "\n",
              "    .dataframe thead th {\n",
              "        text-align: right;\n",
              "    }\n",
              "</style>\n",
              "<table border=\"1\" class=\"dataframe\">\n",
              "  <thead>\n",
              "    <tr style=\"text-align: right;\">\n",
              "      <th></th>\n",
              "      <th>SMILES</th>\n",
              "      <th>Target Sequence</th>\n",
              "      <th>Label</th>\n",
              "      <th>target_encoding</th>\n",
              "    </tr>\n",
              "  </thead>\n",
              "  <tbody>\n",
              "    <tr>\n",
              "      <th>4162</th>\n",
              "      <td>CCN(CCCOC1=CC2=C(C=C1)C(=NC=N2)NC3=NNC(=C3)CC(...</td>\n",
              "      <td>MERPPGLRPGAGGPWEMRERLGTGGFGNVCLYQHRELDLKIAIKSC...</td>\n",
              "      <td>0</td>\n",
              "      <td>[M, E, R, P, P, G, L, R, P, G, A, G, G, P, W, ...</td>\n",
              "    </tr>\n",
              "    <tr>\n",
              "      <th>24426</th>\n",
              "      <td>CNC(=O)C1=NC=CC(=C1)OC2=CC=C(C=C2)NC(=O)NC3=CC...</td>\n",
              "      <td>MRPSGTAGAALLALLAALCPASRALEEKKVCQGTSNKLTQLGTFED...</td>\n",
              "      <td>0</td>\n",
              "      <td>[M, R, P, S, G, T, A, G, A, A, L, L, A, L, L, ...</td>\n",
              "    </tr>\n",
              "    <tr>\n",
              "      <th>18231</th>\n",
              "      <td>CC1=C(NC(=C1C(=O)N2CCCC2CN3CCCC3)C)C=C4C5=C(C=...</td>\n",
              "      <td>MHTGGETSACKPSSVRLAPSFSFHAAGLQMAGQMPHSHQYSDRRQP...</td>\n",
              "      <td>0</td>\n",
              "      <td>[M, H, T, G, G, E, T, S, A, C, K, P, S, S, V, ...</td>\n",
              "    </tr>\n",
              "    <tr>\n",
              "      <th>23630</th>\n",
              "      <td>CC1=C(NC(=C1C(=O)NCC(CN2CCOCC2)O)C)C=C3C4=C(C=...</td>\n",
              "      <td>MRGARGAWDFLCVLLLLLRVQTGSSQPSVSPGEPSPPSIHPGKSDL...</td>\n",
              "      <td>1</td>\n",
              "      <td>[M, R, G, A, R, G, A, W, D, F, L, C, V, L, L, ...</td>\n",
              "    </tr>\n",
              "    <tr>\n",
              "      <th>17657</th>\n",
              "      <td>CC1=C(C=C(C=C1)C(=O)NC2=CC(=CC(=C2)N3C=C(N=C3)...</td>\n",
              "      <td>MDVSLCPAKCSFWRIFLLGSVWLDYVGSVLACPANCVCSKTEINCR...</td>\n",
              "      <td>0</td>\n",
              "      <td>[M, D, V, S, L, C, P, A, K, C, S, F, W, R, I, ...</td>\n",
              "    </tr>\n",
              "    <tr>\n",
              "      <th>...</th>\n",
              "      <td>...</td>\n",
              "      <td>...</td>\n",
              "      <td>...</td>\n",
              "      <td>...</td>\n",
              "    </tr>\n",
              "    <tr>\n",
              "      <th>20278</th>\n",
              "      <td>CC1=C(C=C(C=C1)NC2=NC=CC(=N2)N(C)C3=CC4=NN(C(=...</td>\n",
              "      <td>MAGFKRGYDGKIAGLYDLDKTLGRGHFAVVKLARHVFTGEKVAVKV...</td>\n",
              "      <td>0</td>\n",
              "      <td>[M, A, G, F, K, R, G, Y, D, G, K, I, A, G, L, ...</td>\n",
              "    </tr>\n",
              "    <tr>\n",
              "      <th>5492</th>\n",
              "      <td>CN1C2=C(C=C(C=C2)OC3=CC(=NC=C3)C4=NC=C(N4)C(F)...</td>\n",
              "      <td>MAVPSLWPWGACLPVIFLSLGFGLDTVEVCPSLDIRSEVAELRQLE...</td>\n",
              "      <td>0</td>\n",
              "      <td>[M, A, V, P, S, L, W, P, W, G, A, C, L, P, V, ...</td>\n",
              "    </tr>\n",
              "    <tr>\n",
              "      <th>16057</th>\n",
              "      <td>CC12C(C(CC(O1)N3C4=CC=CC=C4C5=C6C(=C7C8=CC=CC=...</td>\n",
              "      <td>MAEPLKEEDGEDGSAEPPGPVKAEPAHTAASVAAKNLALLKARSFD...</td>\n",
              "      <td>0</td>\n",
              "      <td>[M, A, E, P, L, K, E, E, D, G, E, D, G, S, A, ...</td>\n",
              "    </tr>\n",
              "    <tr>\n",
              "      <th>15777</th>\n",
              "      <td>CC1=C(C=C(C=C1)NC(=O)C2=CC=C(C=C2)CN3CCN(CC3)C...</td>\n",
              "      <td>MAYSWQTDPNPNESHEKQYEHQEFLFVNQPHSSSQVSLGFDQIVDE...</td>\n",
              "      <td>0</td>\n",
              "      <td>[M, A, Y, S, W, Q, T, D, P, N, P, N, E, S, H, ...</td>\n",
              "    </tr>\n",
              "    <tr>\n",
              "      <th>7525</th>\n",
              "      <td>CC1=C(C(=CC=C1)Cl)NC(=O)C2=CN=C(S2)NC3=NC(=NC(...</td>\n",
              "      <td>PFWKILNPLLERGTYYYFMGQQPGKVLGDQRRPSLPALHFIKGAGK...</td>\n",
              "      <td>0</td>\n",
              "      <td>[P, F, W, K, I, L, N, P, L, L, E, R, G, T, Y, ...</td>\n",
              "    </tr>\n",
              "  </tbody>\n",
              "</table>\n",
              "<p>6011 rows × 4 columns</p>\n",
              "</div>\n",
              "      <button class=\"colab-df-convert\" onclick=\"convertToInteractive('df-7abce887-0760-42cd-a867-349396a2f1c3')\"\n",
              "              title=\"Convert this dataframe to an interactive table.\"\n",
              "              style=\"display:none;\">\n",
              "        \n",
              "  <svg xmlns=\"http://www.w3.org/2000/svg\" height=\"24px\"viewBox=\"0 0 24 24\"\n",
              "       width=\"24px\">\n",
              "    <path d=\"M0 0h24v24H0V0z\" fill=\"none\"/>\n",
              "    <path d=\"M18.56 5.44l.94 2.06.94-2.06 2.06-.94-2.06-.94-.94-2.06-.94 2.06-2.06.94zm-11 1L8.5 8.5l.94-2.06 2.06-.94-2.06-.94L8.5 2.5l-.94 2.06-2.06.94zm10 10l.94 2.06.94-2.06 2.06-.94-2.06-.94-.94-2.06-.94 2.06-2.06.94z\"/><path d=\"M17.41 7.96l-1.37-1.37c-.4-.4-.92-.59-1.43-.59-.52 0-1.04.2-1.43.59L10.3 9.45l-7.72 7.72c-.78.78-.78 2.05 0 2.83L4 21.41c.39.39.9.59 1.41.59.51 0 1.02-.2 1.41-.59l7.78-7.78 2.81-2.81c.8-.78.8-2.07 0-2.86zM5.41 20L4 18.59l7.72-7.72 1.47 1.35L5.41 20z\"/>\n",
              "  </svg>\n",
              "      </button>\n",
              "      \n",
              "  <style>\n",
              "    .colab-df-container {\n",
              "      display:flex;\n",
              "      flex-wrap:wrap;\n",
              "      gap: 12px;\n",
              "    }\n",
              "\n",
              "    .colab-df-convert {\n",
              "      background-color: #E8F0FE;\n",
              "      border: none;\n",
              "      border-radius: 50%;\n",
              "      cursor: pointer;\n",
              "      display: none;\n",
              "      fill: #1967D2;\n",
              "      height: 32px;\n",
              "      padding: 0 0 0 0;\n",
              "      width: 32px;\n",
              "    }\n",
              "\n",
              "    .colab-df-convert:hover {\n",
              "      background-color: #E2EBFA;\n",
              "      box-shadow: 0px 1px 2px rgba(60, 64, 67, 0.3), 0px 1px 3px 1px rgba(60, 64, 67, 0.15);\n",
              "      fill: #174EA6;\n",
              "    }\n",
              "\n",
              "    [theme=dark] .colab-df-convert {\n",
              "      background-color: #3B4455;\n",
              "      fill: #D2E3FC;\n",
              "    }\n",
              "\n",
              "    [theme=dark] .colab-df-convert:hover {\n",
              "      background-color: #434B5C;\n",
              "      box-shadow: 0px 1px 3px 1px rgba(0, 0, 0, 0.15);\n",
              "      filter: drop-shadow(0px 1px 2px rgba(0, 0, 0, 0.3));\n",
              "      fill: #FFFFFF;\n",
              "    }\n",
              "  </style>\n",
              "\n",
              "      <script>\n",
              "        const buttonEl =\n",
              "          document.querySelector('#df-7abce887-0760-42cd-a867-349396a2f1c3 button.colab-df-convert');\n",
              "        buttonEl.style.display =\n",
              "          google.colab.kernel.accessAllowed ? 'block' : 'none';\n",
              "\n",
              "        async function convertToInteractive(key) {\n",
              "          const element = document.querySelector('#df-7abce887-0760-42cd-a867-349396a2f1c3');\n",
              "          const dataTable =\n",
              "            await google.colab.kernel.invokeFunction('convertToInteractive',\n",
              "                                                     [key], {});\n",
              "          if (!dataTable) return;\n",
              "\n",
              "          const docLinkHtml = 'Like what you see? Visit the ' +\n",
              "            '<a target=\"_blank\" href=https://colab.research.google.com/notebooks/data_table.ipynb>data table notebook</a>'\n",
              "            + ' to learn more about interactive tables.';\n",
              "          element.innerHTML = '';\n",
              "          dataTable['output_type'] = 'display_data';\n",
              "          await google.colab.output.renderOutput(dataTable, element);\n",
              "          const docLink = document.createElement('div');\n",
              "          docLink.innerHTML = docLinkHtml;\n",
              "          element.appendChild(docLink);\n",
              "        }\n",
              "      </script>\n",
              "    </div>\n",
              "  </div>\n",
              "  "
            ],
            "text/plain": [
              "                                                  SMILES  \\\n",
              "4162   CCN(CCCOC1=CC2=C(C=C1)C(=NC=N2)NC3=NNC(=C3)CC(...   \n",
              "24426  CNC(=O)C1=NC=CC(=C1)OC2=CC=C(C=C2)NC(=O)NC3=CC...   \n",
              "18231  CC1=C(NC(=C1C(=O)N2CCCC2CN3CCCC3)C)C=C4C5=C(C=...   \n",
              "23630  CC1=C(NC(=C1C(=O)NCC(CN2CCOCC2)O)C)C=C3C4=C(C=...   \n",
              "17657  CC1=C(C=C(C=C1)C(=O)NC2=CC(=CC(=C2)N3C=C(N=C3)...   \n",
              "...                                                  ...   \n",
              "20278  CC1=C(C=C(C=C1)NC2=NC=CC(=N2)N(C)C3=CC4=NN(C(=...   \n",
              "5492   CN1C2=C(C=C(C=C2)OC3=CC(=NC=C3)C4=NC=C(N4)C(F)...   \n",
              "16057  CC12C(C(CC(O1)N3C4=CC=CC=C4C5=C6C(=C7C8=CC=CC=...   \n",
              "15777  CC1=C(C=C(C=C1)NC(=O)C2=CC=C(C=C2)CN3CCN(CC3)C...   \n",
              "7525   CC1=C(C(=CC=C1)Cl)NC(=O)C2=CN=C(S2)NC3=NC(=NC(...   \n",
              "\n",
              "                                         Target Sequence  Label  \\\n",
              "4162   MERPPGLRPGAGGPWEMRERLGTGGFGNVCLYQHRELDLKIAIKSC...      0   \n",
              "24426  MRPSGTAGAALLALLAALCPASRALEEKKVCQGTSNKLTQLGTFED...      0   \n",
              "18231  MHTGGETSACKPSSVRLAPSFSFHAAGLQMAGQMPHSHQYSDRRQP...      0   \n",
              "23630  MRGARGAWDFLCVLLLLLRVQTGSSQPSVSPGEPSPPSIHPGKSDL...      1   \n",
              "17657  MDVSLCPAKCSFWRIFLLGSVWLDYVGSVLACPANCVCSKTEINCR...      0   \n",
              "...                                                  ...    ...   \n",
              "20278  MAGFKRGYDGKIAGLYDLDKTLGRGHFAVVKLARHVFTGEKVAVKV...      0   \n",
              "5492   MAVPSLWPWGACLPVIFLSLGFGLDTVEVCPSLDIRSEVAELRQLE...      0   \n",
              "16057  MAEPLKEEDGEDGSAEPPGPVKAEPAHTAASVAAKNLALLKARSFD...      0   \n",
              "15777  MAYSWQTDPNPNESHEKQYEHQEFLFVNQPHSSSQVSLGFDQIVDE...      0   \n",
              "7525   PFWKILNPLLERGTYYYFMGQQPGKVLGDQRRPSLPALHFIKGAGK...      0   \n",
              "\n",
              "                                         target_encoding  \n",
              "4162   [M, E, R, P, P, G, L, R, P, G, A, G, G, P, W, ...  \n",
              "24426  [M, R, P, S, G, T, A, G, A, A, L, L, A, L, L, ...  \n",
              "18231  [M, H, T, G, G, E, T, S, A, C, K, P, S, S, V, ...  \n",
              "23630  [M, R, G, A, R, G, A, W, D, F, L, C, V, L, L, ...  \n",
              "17657  [M, D, V, S, L, C, P, A, K, C, S, F, W, R, I, ...  \n",
              "...                                                  ...  \n",
              "20278  [M, A, G, F, K, R, G, Y, D, G, K, I, A, G, L, ...  \n",
              "5492   [M, A, V, P, S, L, W, P, W, G, A, C, L, P, V, ...  \n",
              "16057  [M, A, E, P, L, K, E, E, D, G, E, D, G, S, A, ...  \n",
              "15777  [M, A, Y, S, W, Q, T, D, P, N, P, N, E, S, H, ...  \n",
              "7525   [P, F, W, K, I, L, N, P, L, L, E, R, G, T, Y, ...  \n",
              "\n",
              "[6011 rows x 4 columns]"
            ]
          },
          "execution_count": 28,
          "metadata": {},
          "output_type": "execute_result"
        }
      ],
      "source": [
        "test"
      ]
    },
    {
      "cell_type": "code",
      "execution_count": null,
      "metadata": {
        "id": "L_oOkW9MTtMR"
      },
      "outputs": [],
      "source": []
    },
    {
      "cell_type": "markdown",
      "metadata": {
        "id": "ilL_QytUdDLi"
      },
      "source": [
        "**Drug & Protein encoding 함수**"
      ]
    },
    {
      "cell_type": "code",
      "execution_count": null,
      "metadata": {
        "id": "EIkbzgakMUBQ"
      },
      "outputs": [],
      "source": [
        "# Protein one-hot 인코딩\n",
        "\n",
        "def protein_2_embed(x):\n",
        "\treturn enc_protein.transform(np.array(x).reshape(-1,1)).toarray().T"
      ]
    },
    {
      "cell_type": "markdown",
      "metadata": {
        "id": "JeiaiONcdJUd"
      },
      "source": [
        "# 학습을 위한 준비"
      ]
    },
    {
      "cell_type": "code",
      "execution_count": null,
      "metadata": {
        "id": "Vx1AU-yg0qqR"
      },
      "outputs": [],
      "source": []
    },
    {
      "cell_type": "code",
      "execution_count": null,
      "metadata": {
        "colab": {
          "base_uri": "https://localhost:8080/"
        },
        "id": "f7OjQSQSMX9k",
        "outputId": "50239875-7870-48f5-a44e-a16259536380"
      },
      "outputs": [
        {
          "name": "stderr",
          "output_type": "stream",
          "text": [
            "DGL backend not selected or invalid.  Assuming PyTorch for now.\n"
          ]
        },
        {
          "name": "stdout",
          "output_type": "stream",
          "text": [
            "Setting the default backend to \"pytorch\". You can change it in the ~/.dgl/config.json file or export the DGLBACKEND environment variable.  Valid options are: pytorch, mxnet, tensorflow (all lowercase)\n"
          ]
        }
      ],
      "source": [
        "# 필요한 library 불러오기\n",
        "\n",
        "import torch\n",
        "from torch import nn \n",
        "import torch.nn.functional as F\n",
        "from torch.utils.data import Dataset, DataLoader\n",
        "from torch.autograd import Variable\n",
        "\n",
        "from torch.utils import data\n",
        "from dgllife.utils import smiles_to_bigraph, CanonicalAtomFeaturizer, CanonicalBondFeaturizer\n",
        "from functools import partial\n",
        "import dgl"
      ]
    },
    {
      "cell_type": "code",
      "execution_count": null,
      "metadata": {
        "colab": {
          "base_uri": "https://localhost:8080/"
        },
        "id": "m9yK4xD3MZka",
        "outputId": "6c9be21f-1385-4368-d84b-090339bf736d"
      },
      "outputs": [
        {
          "name": "stdout",
          "output_type": "stream",
          "text": [
            "현재 디바이스는 cuda:0 입니다.\n"
          ]
        }
      ],
      "source": [
        "# 디바이스 설정\n",
        "\n",
        "device = torch.device(\"cuda:0\" if torch.cuda.is_available() else \"cpu\")\n",
        "print(f\"현재 디바이스는 {device} 입니다.\")"
      ]
    },
    {
      "cell_type": "code",
      "execution_count": null,
      "metadata": {
        "id": "POA3FqhmMeIF"
      },
      "outputs": [],
      "source": [
        "# Custom dataset 만들기 \n",
        "\n",
        "class data_process_loader(Dataset):\n",
        "    def __init__(self, df):\n",
        "        \"\"\"\n",
        "        Args:\n",
        "            df: Paired drug - protein - affinity dataframe\n",
        "        \"\"\"\n",
        "        self.df = df\n",
        "\n",
        "        # Atom Featurizer\n",
        "        self.node_featurizer = CanonicalAtomFeaturizer()\n",
        "\n",
        "        # Bond Featurizer\n",
        "        self.edge_featurizer = CanonicalBondFeaturizer(self_loop = True)\n",
        "\n",
        "        # smiles_to_bigraph에서 add_self_loop가 항상 True인 새로운 함수 생성\n",
        "        self.fc = partial(smiles_to_bigraph, add_self_loop=True)\n",
        "\n",
        "    def __len__(self):\n",
        "        \"\"\"샘플 개수\n",
        "        \"\"\"\n",
        "        return self.df.shape[0] \n",
        "\n",
        "    def __getitem__(self, index):\n",
        "        # Drug 데이터\n",
        "        v_d = self.df.iloc[index]['SMILES'] # drug SMILES \n",
        "        v_d = self.fc(smiles = v_d, node_featurizer = self.node_featurizer, edge_featurizer = self.edge_featurizer) # SMILES to graph \n",
        "\n",
        "        # Target 데이터\n",
        "        v_p = self.df.iloc[index]['target_encoding'] \n",
        "        v_p = protein_2_embed(v_p) # Target One-hot 인코딩 [26,100]\n",
        "\n",
        "        # Binding affinity (label)\n",
        "        y = self.df.iloc[index]['Label'] \n",
        "\n",
        "        return v_d, v_p, y\n"
      ]
    },
    {
      "cell_type": "code",
      "execution_count": null,
      "metadata": {
        "id": "GKmNQ842MeMQ"
      },
      "outputs": [],
      "source": [
        "train_dataset = data_process_loader(train)\n",
        "valid_dataset = data_process_loader(val)\n",
        "test_dataset = data_process_loader(test)"
      ]
    },
    {
      "cell_type": "code",
      "execution_count": null,
      "metadata": {
        "colab": {
          "base_uri": "https://localhost:8080/"
        },
        "id": "FCen6cNeMeOk",
        "outputId": "4b93bea1-2195-4155-de65-144b877daeae"
      },
      "outputs": [
        {
          "name": "stdout",
          "output_type": "stream",
          "text": [
            "Graph(num_nodes=36, num_edges=112,\n",
            "      ndata_schemes={'h': Scheme(shape=(74,), dtype=torch.float32)}\n",
            "      edata_schemes={'e': Scheme(shape=(13,), dtype=torch.float32)})\n",
            "(26, 1000)\n",
            "1\n"
          ]
        }
      ],
      "source": [
        "# Dataset 확인 해보기 \n",
        "\n",
        "for (v_d, v_p, y) in valid_dataset:\n",
        "    print(v_d)\n",
        "    print(v_p.shape)\n",
        "    print(y)\n",
        "    break"
      ]
    },
    {
      "cell_type": "code",
      "execution_count": null,
      "metadata": {
        "colab": {
          "base_uri": "https://localhost:8080/"
        },
        "id": "CWmP1O461B4Q",
        "outputId": "51d723f4-2afb-4f59-a2be-361d1b95e91f"
      },
      "outputs": [
        {
          "name": "stdout",
          "output_type": "stream",
          "text": [
            "torch.Size([36, 74])\n"
          ]
        },
        {
          "data": {
            "text/plain": [
              "tensor([[1., 0., 0.,  ..., 0., 0., 0.],\n",
              "        [0., 1., 0.,  ..., 1., 0., 0.],\n",
              "        [1., 0., 0.,  ..., 0., 0., 0.],\n",
              "        ...,\n",
              "        [0., 0., 1.,  ..., 0., 0., 0.],\n",
              "        [1., 0., 0.,  ..., 0., 0., 0.],\n",
              "        [1., 0., 0.,  ..., 0., 1., 0.]])"
            ]
          },
          "execution_count": 35,
          "metadata": {},
          "output_type": "execute_result"
        }
      ],
      "source": [
        "# DGL graph ndata(node \bfeature) 확인\n",
        "\n",
        "print(v_d.ndata['h'].shape)\n",
        "v_d.ndata['h']"
      ]
    },
    {
      "cell_type": "code",
      "execution_count": null,
      "metadata": {
        "colab": {
          "base_uri": "https://localhost:8080/"
        },
        "id": "cgplwPsg1DXL",
        "outputId": "0255e43e-2526-4537-cf28-fc72b55a05fa"
      },
      "outputs": [
        {
          "name": "stdout",
          "output_type": "stream",
          "text": [
            "torch.Size([112, 13])\n"
          ]
        },
        {
          "data": {
            "text/plain": [
              "tensor([[1., 0., 0.,  ..., 0., 0., 0.],\n",
              "        [1., 0., 0.,  ..., 0., 0., 0.],\n",
              "        [1., 0., 0.,  ..., 0., 0., 0.],\n",
              "        ...,\n",
              "        [0., 0., 0.,  ..., 0., 0., 1.],\n",
              "        [0., 0., 0.,  ..., 0., 0., 1.],\n",
              "        [0., 0., 0.,  ..., 0., 0., 1.]])"
            ]
          },
          "execution_count": 36,
          "metadata": {},
          "output_type": "execute_result"
        }
      ],
      "source": [
        "# DGL graph edata(edge \bfeature) 확인\n",
        "\n",
        "print(v_d.edata['e'].shape)\n",
        "v_d.edata['e']"
      ]
    },
    {
      "cell_type": "code",
      "execution_count": null,
      "metadata": {
        "colab": {
          "base_uri": "https://localhost:8080/"
        },
        "id": "bqt7o-_91E4l",
        "outputId": "09a8b67c-355f-4345-a0df-788e54c8e635"
      },
      "outputs": [
        {
          "data": {
            "text/plain": [
              "1"
            ]
          },
          "execution_count": 37,
          "metadata": {},
          "output_type": "execute_result"
        }
      ],
      "source": [
        "# batch size 확인\n",
        "\n",
        "v_d.batch_size"
      ]
    },
    {
      "cell_type": "markdown",
      "metadata": {
        "id": "oBVRITaj1Iaw"
      },
      "source": [
        "### Custom dataloader"
      ]
    },
    {
      "cell_type": "code",
      "execution_count": null,
      "metadata": {
        "id": "yd1I-fxH1Hdz"
      },
      "outputs": [],
      "source": [
        "def dgl_collate_func(x):\n",
        "\t\"\"\"DataLoade에 사용되는 collate function \n",
        "\tdgp graph를 batch collection으로 만들기\n",
        "\t\"\"\"\t\n",
        "\tv_d, v_p, y = zip(*x)\n",
        " \n",
        "\t# dgl graph \n",
        "\tv_d = dgl.batch(v_d) # Batch a collection of DGLGraph\n",
        "\n",
        "\treturn v_d, torch.tensor(v_p), torch.tensor(y)\n"
      ]
    },
    {
      "cell_type": "code",
      "execution_count": null,
      "metadata": {
        "id": "heUn3CsgMeQX"
      },
      "outputs": [],
      "source": [
        "# DataLoader 파라미터\n",
        "\n",
        "params = {'batch_size': 256,\n",
        "            'shuffle': True,\n",
        "            'num_workers': 1,\n",
        "            'drop_last': False,\n",
        "          'collate_fn' : dgl_collate_func}"
      ]
    },
    {
      "cell_type": "code",
      "execution_count": null,
      "metadata": {
        "id": "xucsijxtNE98"
      },
      "outputs": [],
      "source": [
        "# Mini-batch 학습을 위한 DataLoader\n",
        "\n",
        "training_generator = DataLoader(train_dataset, **params)\n",
        "valid_generator = DataLoader(valid_dataset, **params)\n",
        "test_generator = DataLoader(test_dataset, **params)"
      ]
    },
    {
      "cell_type": "code",
      "execution_count": null,
      "metadata": {
        "colab": {
          "base_uri": "https://localhost:8080/"
        },
        "id": "SjdhbQGqNF4c",
        "outputId": "be3fd9ba-20ac-4b39-c592-7703ee58f18d"
      },
      "outputs": [
        {
          "name": "stdout",
          "output_type": "stream",
          "text": [
            "\n",
            "@input(DGL_graph--->\n",
            "Graph(num_nodes=8099, num_edges=25989,\n",
            "      ndata_schemes={'h': Scheme(shape=(74,), dtype=torch.float32)}\n",
            "      edata_schemes={'e': Scheme(shape=(13,), dtype=torch.float32)})\n",
            "batch_size of input: 256\n",
            "torch.Size([256, 26, 1000])\n",
            "tensor([0, 1, 0, 0, 0, 0, 0, 1, 0, 0, 0, 0, 1, 0, 0, 0, 0, 1, 0, 0, 0, 0, 0, 0,\n",
            "        0, 0, 0, 0, 0, 0, 0, 1, 0, 1, 0, 0, 0, 0, 0, 0, 0, 0, 0, 0, 0, 0, 1, 0,\n",
            "        0, 1, 0, 0, 0, 0, 0, 0, 0, 1, 1, 0, 0, 0, 0, 0, 0, 0, 0, 0, 0, 0, 0, 0,\n",
            "        0, 0, 1, 0, 0, 0, 0, 0, 0, 0, 0, 0, 0, 0, 0, 0, 0, 1, 0, 0, 0, 0, 0, 0,\n",
            "        1, 0, 0, 0, 0, 0, 0, 0, 0, 0, 0, 1, 0, 0, 1, 0, 0, 0, 0, 0, 0, 0, 0, 1,\n",
            "        0, 0, 0, 0, 1, 0, 0, 0, 0, 0, 0, 0, 0, 0, 0, 0, 0, 0, 0, 0, 0, 1, 0, 0,\n",
            "        0, 0, 0, 0, 0, 1, 0, 0, 0, 0, 0, 0, 1, 1, 1, 0, 0, 1, 0, 0, 0, 0, 0, 0,\n",
            "        0, 1, 0, 0, 0, 0, 0, 0, 0, 1, 0, 0, 1, 0, 0, 0, 0, 0, 0, 0, 0, 0, 0, 0,\n",
            "        0, 0, 0, 0, 0, 0, 0, 0, 0, 0, 0, 0, 0, 0, 0, 0, 0, 0, 0, 0, 1, 0, 0, 0,\n",
            "        0, 0, 0, 0, 0, 0, 0, 0, 0, 0, 0, 0, 0, 0, 0, 0, 1, 0, 0, 1, 0, 0, 0, 0,\n",
            "        0, 0, 0, 0, 0, 0, 0, 0, 0, 0, 0, 0, 0, 1, 1, 0])\n"
          ]
        }
      ],
      "source": [
        "# Dataloader 확인해보기 \n",
        "\n",
        "for v_d, v_p, y in training_generator:\n",
        "    print('\\n@input(DGL_graph--->')\n",
        "    print(v_d)\n",
        "    print(f\"batch_size of input: {v_d.batch_size}\")\n",
        "    print(v_p.shape)\n",
        "    print(y)\n",
        "\n",
        "    drug_demo = v_d\n",
        "    protein_demo = v_p\n",
        "    affinity_demo = y\n",
        "    break"
      ]
    },
    {
      "cell_type": "code",
      "execution_count": null,
      "metadata": {
        "colab": {
          "base_uri": "https://localhost:8080/"
        },
        "id": "EuQ743Lq0yxF",
        "outputId": "3b98ff00-eb6e-4004-dd17-dd39b80cc746"
      },
      "outputs": [
        {
          "name": "stdout",
          "output_type": "stream",
          "text": [
            "\n",
            "@input(DGL_graph--->\n",
            "Graph(num_nodes=8232, num_edges=26462,\n",
            "      ndata_schemes={'h': Scheme(shape=(74,), dtype=torch.float32)}\n",
            "      edata_schemes={'e': Scheme(shape=(13,), dtype=torch.float32)})\n",
            "batch_size of input: 256\n",
            "torch.Size([256, 26, 1000])\n",
            "tensor([0, 0, 0, 0, 0, 0, 0, 0, 0, 0, 0, 0, 0, 0, 1, 0, 0, 1, 0, 0, 0, 0, 0, 0,\n",
            "        0, 0, 0, 1, 0, 0, 0, 0, 0, 0, 0, 0, 0, 0, 1, 0, 0, 0, 1, 0, 0, 0, 0, 0,\n",
            "        1, 0, 0, 1, 0, 0, 0, 1, 0, 0, 1, 1, 0, 0, 0, 0, 0, 1, 0, 0, 0, 0, 0, 0,\n",
            "        0, 0, 0, 0, 0, 0, 0, 0, 0, 0, 0, 0, 0, 0, 0, 0, 0, 0, 0, 0, 0, 0, 0, 0,\n",
            "        1, 0, 0, 0, 0, 0, 0, 0, 0, 1, 0, 0, 0, 0, 0, 0, 0, 0, 0, 0, 1, 0, 0, 0,\n",
            "        0, 0, 0, 0, 0, 0, 0, 0, 0, 0, 0, 1, 0, 0, 0, 0, 0, 0, 0, 0, 0, 0, 0, 0,\n",
            "        0, 0, 0, 0, 0, 0, 0, 1, 1, 0, 0, 0, 0, 0, 0, 0, 0, 0, 0, 0, 0, 0, 0, 0,\n",
            "        0, 1, 0, 0, 0, 0, 0, 0, 0, 0, 0, 0, 0, 1, 0, 0, 0, 0, 0, 0, 0, 0, 0, 0,\n",
            "        0, 0, 0, 0, 0, 0, 0, 0, 0, 0, 0, 0, 0, 0, 0, 0, 0, 1, 0, 0, 0, 0, 0, 0,\n",
            "        0, 0, 0, 0, 0, 0, 0, 0, 0, 0, 0, 1, 0, 0, 0, 0, 0, 0, 0, 0, 1, 0, 0, 1,\n",
            "        0, 0, 0, 0, 0, 0, 0, 0, 1, 1, 0, 0, 0, 0, 0, 0])\n"
          ]
        }
      ],
      "source": [
        "for (v_d, v_p, y) in valid_generator:\n",
        "    print('\\n@input(DGL_graph--->')\n",
        "    print(v_d)\n",
        "    print(f\"batch_size of input: {v_d.batch_size}\")\n",
        "    print(v_p.shape)\n",
        "    print(y)\n",
        "    break"
      ]
    },
    {
      "cell_type": "code",
      "execution_count": null,
      "metadata": {
        "colab": {
          "base_uri": "https://localhost:8080/"
        },
        "id": "27iMVQbn0xaS",
        "outputId": "ad516aa3-9c07-4605-8563-c8f272ea3cd9"
      },
      "outputs": [
        {
          "name": "stdout",
          "output_type": "stream",
          "text": [
            "\n",
            "@input(DGL_graph--->\n",
            "Graph(num_nodes=8224, num_edges=26428,\n",
            "      ndata_schemes={'h': Scheme(shape=(74,), dtype=torch.float32)}\n",
            "      edata_schemes={'e': Scheme(shape=(13,), dtype=torch.float32)})\n",
            "batch_size of input: 256\n",
            "torch.Size([256, 26, 1000])\n",
            "tensor([0, 0, 0, 1, 0, 0, 0, 0, 0, 0, 0, 0, 0, 1, 0, 0, 0, 0, 1, 0, 0, 0, 0, 0,\n",
            "        0, 0, 0, 1, 0, 1, 0, 0, 0, 1, 0, 0, 0, 0, 1, 1, 0, 0, 0, 0, 0, 1, 0, 0,\n",
            "        0, 0, 1, 0, 0, 0, 0, 0, 1, 1, 0, 0, 0, 0, 0, 0, 0, 0, 0, 0, 0, 0, 0, 0,\n",
            "        0, 0, 0, 0, 0, 0, 0, 0, 0, 0, 0, 0, 0, 0, 0, 0, 0, 0, 0, 0, 0, 0, 0, 1,\n",
            "        0, 1, 0, 0, 0, 0, 0, 1, 0, 0, 0, 0, 0, 1, 0, 1, 1, 0, 0, 0, 0, 0, 0, 0,\n",
            "        0, 0, 0, 1, 0, 0, 0, 1, 0, 0, 0, 0, 0, 0, 0, 0, 0, 0, 0, 0, 0, 1, 0, 0,\n",
            "        1, 0, 0, 0, 0, 0, 0, 0, 0, 0, 0, 0, 0, 0, 0, 0, 0, 0, 0, 0, 0, 0, 0, 0,\n",
            "        0, 0, 1, 0, 0, 0, 0, 0, 0, 0, 0, 0, 0, 0, 0, 0, 0, 0, 0, 0, 0, 1, 0, 0,\n",
            "        0, 0, 0, 0, 0, 0, 0, 0, 0, 0, 0, 0, 0, 0, 0, 0, 0, 0, 0, 0, 0, 0, 0, 0,\n",
            "        0, 0, 0, 0, 0, 0, 0, 0, 0, 0, 0, 0, 1, 0, 0, 0, 0, 0, 0, 1, 0, 0, 0, 0,\n",
            "        0, 0, 0, 0, 0, 0, 0, 1, 1, 0, 0, 0, 0, 0, 0, 0])\n"
          ]
        }
      ],
      "source": [
        "for (v_d, v_p, y) in test_generator:\n",
        "    print('\\n@input(DGL_graph--->')\n",
        "    print(v_d)\n",
        "    print(f\"batch_size of input: {v_d.batch_size}\")\n",
        "    \n",
        "    print(v_p.shape)\n",
        "    print(y)\n",
        "    break"
      ]
    },
    {
      "cell_type": "markdown",
      "metadata": {
        "id": "mB_UMNEueK9s"
      },
      "source": [
        "### Binding affinity 예측 모델 만들기"
      ]
    },
    {
      "cell_type": "markdown",
      "metadata": {
        "id": "tg0Ucfh6oP8V"
      },
      "source": [
        "**CNN demo**"
      ]
    },
    {
      "cell_type": "code",
      "execution_count": null,
      "metadata": {
        "id": "T4SI_f5nfQXJ"
      },
      "outputs": [],
      "source": []
    },
    {
      "cell_type": "code",
      "execution_count": null,
      "metadata": {
        "id": "uJRkU66d1j1R"
      },
      "outputs": [],
      "source": [
        "import torch.nn.functional as F\n",
        "from torch import nn \n",
        "from dgllife.model.gnn.gcn import GCN\n",
        "from dgllife.model.readout.weighted_sum_and_max import WeightedSumAndMax"
      ]
    },
    {
      "cell_type": "markdown",
      "metadata": {
        "id": "ZdYilUOIsF9_"
      },
      "source": [
        "**모델 만들기**"
      ]
    },
    {
      "cell_type": "code",
      "execution_count": null,
      "metadata": {
        "id": "iMrKLVEeNMyc"
      },
      "outputs": [],
      "source": [
        "# 모델 설정 값\n",
        "\n",
        "\n",
        "config = {\n",
        "    # drug 설정\n",
        "    \"gnn_hid_dim_drug\" : 64,\n",
        "    \"gnn_num_layers\" : 3,\n",
        "    \"gnn_activation\" : F.relu,\n",
        "    \"hidden_dim_drug\" : 256,\n",
        "    \"cls_hidden_dims\" : [1024, 1024, 512],\n",
        "\n",
        "    # protein 설정\n",
        "    \"cnn_target_filters\" : [32,64,96],\n",
        "    \"cnn_target_kernels\" : [4,8,12],\n",
        "    \"hidden_dim_protein\" : 256,\n",
        "    \"rnn_target_hid_dim\" : 64,\n",
        "    \"rnn_target_n_layers\" : 2,\n",
        "    \"rnn_target_bidirectional\" : True,\n",
        "    \"rnn_Use_GRU_LSTM_target\" : 'GRU',\n",
        "\n",
        "    # Classfier 설정\n",
        "    \"cls_hidden_dims\" : [1024, 1024, 512]\n",
        "    }"
      ]
    },
    {
      "cell_type": "code",
      "execution_count": null,
      "metadata": {
        "id": "Cx7KwqJGtvD3"
      },
      "outputs": [],
      "source": [
        "# CNN - RNN 모델 \n",
        "\n",
        "class CNN_RNN(nn.Sequential):\n",
        "\t\"\"\"CNN과 RNN을 이용하여 특성 추출(feature extration)\n",
        "\t\"\"\"\n",
        "\tdef __init__(self, encoding, **config):\n",
        "\t\tsuper(CNN_RNN, self).__init__()\n",
        "  \n",
        "\t\tif encoding == 'drug':\n",
        "\n",
        "\t\t\thidden_feats = [config['gnn_hid_dim_drug']] * config['gnn_num_layers']\n",
        "\t\t\tactivation = [config['gnn_activation']] * config['gnn_num_layers']\n",
        "\t\t\tpredictor_dim = config['hidden_dim_drug']\n",
        "\n",
        "\t\t\t#\tgraph convolution layer \n",
        "\t\t\tself.gnn = GCN(in_feats=74,\n",
        "\t\t\t\t\t\thidden_feats=hidden_feats,\n",
        "\t\t\t\t\t\tactivation=activation)\n",
        "\n",
        "\t\t\tgnn_out_feats = self.gnn.hidden_feats[-1] # 마지막 GCN layer 이 후 node representation 크기\n",
        "\t\t\tself.readout = WeightedSumAndMax(gnn_out_feats) # 마지막 layer 이 후 node feature readout (weighted sum과 max pooling 각각 진행 후 concatenation)\n",
        "\t\t\tself.transform = nn.Linear(gnn_out_feats * 2, predictor_dim)\n",
        "\n",
        "\t\tif encoding == 'protein':\n",
        "\t\t\t\"\"\"\n",
        "\t\t\tCNN 구현 \n",
        "\t\t\t\"\"\"\n",
        "\t\t\t# 레이어 별 CNN 필터 개수 \n",
        "\t\t\tin_ch = [26] + config['cnn_target_filters']\n",
        "\t\t\tself.in_ch = in_ch[-1]\n",
        "\n",
        "\t\t\t# 레이어 별 CNN kernel 사이즈\n",
        "\t\t\tkernels = config['cnn_target_kernels']\n",
        "\n",
        "\t\t\t# 전체 CNN Layer 개수\n",
        "\t\t\tlayer_size = len(config['cnn_target_filters'])\n",
        "\n",
        "\t\t\tself.conv = nn.ModuleList([nn.Conv1d(in_channels = in_ch[i], # input 채널 수\n",
        "\t\t\t\t\t\t\t\t\t\t\t\t\tout_channels = in_ch[i+1], # output 채널 수\n",
        "\t\t\t\t\t\t\t\t\t\t\t\t\tkernel_size = kernels[i]) for i in range(layer_size)]) # kernel 사이즈\n",
        "\t\t\tself.conv = self.conv.double()\n",
        "   \n",
        "\t\t\t# 마지막 층 사이즈 구하기\n",
        "\t\t\tn_size_p = self._get_conv_output((26, 1000))\n",
        "   \n",
        "\t\t\t\"\"\"\n",
        "\t\t\tRNN 구현 (LSTM / GRU)\n",
        "\t\t\t\"\"\"\n",
        "\t\t\tif config['rnn_Use_GRU_LSTM_target'] == 'LSTM':\n",
        "\t\t\t\tself.rnn = nn.LSTM(input_size = in_ch[-1], # input feature 사이즈 (convolution 이 후 채널 개수)\n",
        "\t\t\t\t\t\t\t\thidden_size = config['rnn_target_hid_dim'], # hidden feature 사이즈\n",
        "\t\t\t\t\t\t\t\tnum_layers = config['rnn_target_n_layers'], # recurrent layer 개수\n",
        "\t\t\t\t\t\t\t\tbatch_first = True, # If True, (batch, seq, feature) Else, (seq, batch, feature)\n",
        "\t\t\t\t\t\t\t\tbidirectional = config['rnn_target_bidirectional']) # If True, Bidirectional LSTM\n",
        "\n",
        "\t\t\telif config['rnn_Use_GRU_LSTM_target'] == 'GRU':\n",
        "\t\t\t\tself.rnn = nn.GRU(input_size = in_ch[-1], \n",
        "\t\t\t\t\t\t\t\thidden_size = config['rnn_target_hid_dim'],\n",
        "\t\t\t\t\t\t\t\tnum_layers = config['rnn_target_n_layers'],\n",
        "\t\t\t\t\t\t\t\tbatch_first = True,\n",
        "\t\t\t\t\t\t\t\tbidirectional = config['rnn_target_bidirectional'])\n",
        "\t\t\telse:\n",
        "\t\t\t\traise AttributeError('Please use LSTM or GRU.')\n",
        "\n",
        "\t\t\tdirection = 2 if config['rnn_target_bidirectional'] else 1\n",
        "\t\t\tself.rnn = self.rnn.double()\n",
        "   \n",
        "\t\t\t# 마지막 protein 임베딩 층\n",
        "\t\t\tself.fc1 = nn.Linear(config['rnn_target_hid_dim'] * direction * n_size_p, config['hidden_dim_protein'])\n",
        "   \n",
        "\t\tself.encoding = encoding\n",
        "\t\tself.config = config\n",
        "\n",
        "\tdef _get_conv_output(self, shape):\n",
        "\t\t\"\"\"마지막 \n",
        "\t\t\"\"\"\n",
        "\t\tbs = 1\n",
        "\t\tinput = Variable(torch.rand(bs, *shape))\n",
        "\t\toutput_feat = self._forward_features(input.double())\n",
        "\t\tn_size = output_feat.data.view(bs, self.in_ch, -1).size(2)\n",
        "\t\treturn n_size\n",
        "\n",
        "\tdef _forward_features(self, x):\n",
        "\t\tfor l in self.conv:\n",
        "\t\t\tx = F.relu(l(x))\n",
        "\t\treturn x\n",
        "\n",
        "\tdef forward(self, v):\n",
        "\t\t\n",
        "\t\tif self.encoding == 'protein':\n",
        "\t\t\tv = self._forward_features(v.double())\n",
        "  \n",
        "\t\t\tbatch_size = v.size(0)\n",
        "\t\t\tv = v.view(batch_size, v.size(2), -1) \n",
        "\t\t\t# drug: [256, 96, 85] -> [256, 85, 96]\n",
        "\t\t\t# protein: [256, 96, 979] -> [256, 979, 96]\n",
        "\t\t\tif self.config['rnn_Use_GRU_LSTM_target'] == 'LSTM':\n",
        "\t\t\t\tdirection = 2 if self.config['rnn_target_bidirectional'] else 1\n",
        "\t\t\t\th0 = torch.randn(self.config['rnn_target_n_layers'] * direction, batch_size, self.config['rnn_target_hid_dim']).to(device) # Initialize hidden state\n",
        "\t\t\t\tc0 = torch.randn(self.config['rnn_target_n_layers'] * direction, batch_size, self.config['rnn_target_hid_dim']).to(device) # Initialize cell state\n",
        "\t\t\t\tv, (hn, cn) = self.rnn(v.double(), (h0.double(), c0.double()))\n",
        "\t\t\telse:\n",
        "\t\t\t\t# GRU\n",
        "\t\t\t\tdirection = 2 if self.config['rnn_target_bidirectional'] else 1\n",
        "\t\t\t\th0 = torch.randn(self.config['rnn_target_n_layers'] * direction, batch_size, self.config['rnn_target_hid_dim']).to(device)\n",
        "\t\t\t\tv, hn = self.rnn(v.double(), h0.double())\n",
        "\t\t\t\tv = torch.flatten(v, 1)\n",
        "\t\t\t\tv = self.fc1(v.float())\n",
        "\t\telse:\n",
        "\t\t\t# bg = bg.to(device) # batch of DGL graph`\n",
        "\t\t\tfeats = v.ndata.pop('h') # (batch, nodes, in_feats) \n",
        "\t\t\tnode_feats = self.gnn(v, feats) # (batch, nodes, gnn_out_feats)\n",
        "\t\t\tv = self.readout(v, node_feats) # (Batch, gnn_out_feats * 2)\n",
        "\t\t\tv = self.transform(v) # (Batch, predictor_dim)\n",
        "\t\t\t\n",
        "\t\t\t\t\n",
        "\t\treturn v\n"
      ]
    },
    {
      "cell_type": "code",
      "execution_count": null,
      "metadata": {
        "id": "Qg5pfoq1NRhX"
      },
      "outputs": [],
      "source": [
        "class Classifier(nn.Sequential):\n",
        "\t\"\"\"\n",
        "\t임베딩 된 drug와 protein을 이용하여 classificaion\n",
        "\t\"\"\"\n",
        "\tdef __init__(self, model_drug, model_protein, **config):\n",
        "\t\t\"\"\"\n",
        "\t\tArgs:\n",
        "\t\t\tmodel_drug: drug emedding 모델\n",
        "\t\t\tmodel_protein: protein emedding 모델\n",
        "\t\t\tconfig: 모델 설정 값\n",
        "\t\t\"\"\"\n",
        "\t\tsuper(Classifier, self).__init__()\n",
        "\n",
        "\t\tself.input_dim_drug = config['hidden_dim_drug'] # drug feature 사이즈\n",
        "\t\tself.input_dim_protein = config['hidden_dim_protein'] # protein feature 사이즈\n",
        "\n",
        "\t\tself.model_drug = model_drug # drug 임베딩 모델\n",
        "\t\tself.model_protein = model_protein # protein 임베딩 모델\n",
        "\n",
        "\t\tself.dropout = nn.Dropout(0.1) # dropout 적용\n",
        "\n",
        "\t\tself.hidden_dims = config['cls_hidden_dims'] # classifier hidden dimensions\n",
        "\t\tlayer_size = len(self.hidden_dims) + 1 # hidden layer 개수\n",
        "\t\tdims = [self.input_dim_drug + self.input_dim_protein] + self.hidden_dims + [1] # [\"합쳐진 feature 차원 (drug + protein), hidden1, hidden2, hidden3, 1 (output layer)] \n",
        "\t\t\n",
        "\t\tself.predictor = nn.ModuleList([nn.Linear(dims[i], dims[i+1]) for i in range(layer_size)]) # classifer layers \n",
        "\n",
        "\tdef forward(self, v_D, v_P):\n",
        "\t\t# Drug/protein 임베딩\n",
        "\t\tv_D = self.model_drug(v_D)\n",
        "\t\tv_P = self.model_protein(v_P)\n",
        "  \n",
        "\t\t# drug - protein feature 합치기 \n",
        "\t\tv_f = torch.cat((v_D, v_P), 1)\n",
        "  \n",
        "\t\tfor i, l in enumerate(self.predictor):\n",
        "\t\t\tif i == (len(self.predictor)-1):\n",
        "\t\t\t\t# If last layer,\n",
        "\t\t\t\tv_f = l(v_f)\n",
        "\t\t\telse:\n",
        "\t\t\t\t# If Not last layer, dropout과 ReLU 적용\n",
        "\t\t\t\tv_f = F.relu(self.dropout(l(v_f)))\n",
        "\t\n",
        "\t\treturn v_f\n"
      ]
    },
    {
      "cell_type": "code",
      "execution_count": null,
      "metadata": {
        "id": "6AQcDPJXNPBS"
      },
      "outputs": [],
      "source": [
        "# model for drug\n",
        "model_drug = CNN_RNN('drug', **config)\n",
        "\n",
        "# model for protein\n",
        "model_protein = CNN_RNN('protein', **config)\n",
        "\n",
        "# classifier\n",
        "model = Classifier(model_drug, model_protein, **config)\n",
        "\n",
        "model = model.to(device) "
      ]
    },
    {
      "cell_type": "code",
      "execution_count": null,
      "metadata": {
        "id": "_IY8J-WzNQkT"
      },
      "outputs": [],
      "source": []
    },
    {
      "cell_type": "code",
      "execution_count": null,
      "metadata": {
        "id": "NeVq4wo-NSz1"
      },
      "outputs": [],
      "source": []
    },
    {
      "cell_type": "markdown",
      "metadata": {
        "id": "XRmYofpEvico"
      },
      "source": [
        "# 모델 학습 (Training)"
      ]
    },
    {
      "cell_type": "markdown",
      "metadata": {
        "id": "jJSsj_oHvgGc"
      },
      "source": [
        "### 학습 준비"
      ]
    },
    {
      "cell_type": "code",
      "execution_count": null,
      "metadata": {
        "id": "aEe5xe1HwZlG"
      },
      "outputs": [],
      "source": [
        "import copy\n",
        "from prettytable import PrettyTable\n",
        "from time import time\n",
        "\n",
        "from sklearn.metrics import mean_squared_error, roc_auc_score, average_precision_score, f1_score, log_loss"
      ]
    },
    {
      "cell_type": "code",
      "execution_count": null,
      "metadata": {
        "id": "lhJzFfWaNUK_"
      },
      "outputs": [],
      "source": [
        "# 하이퍼 파라미터(hyper parameter)\n",
        "\n",
        "learning_rate = 0.001\n",
        "weight_decay  = 0.00001\n",
        "train_epoch   = 1"
      ]
    },
    {
      "cell_type": "code",
      "execution_count": null,
      "metadata": {
        "id": "tAEbDETGv6KI"
      },
      "outputs": [],
      "source": [
        "# 옵티마이저 선언\n",
        "opt = torch.optim.Adam(model.parameters(), lr = learning_rate, weight_decay = weight_decay) # Adam optimizer\n",
        "\n",
        "# 손실 함수 선언\n",
        "loss_fct = torch.nn.BCELoss()\n",
        "\n",
        "# 시그모이드(sigmoid) 함수\n",
        "sigmoid = torch.nn.Sigmoid() "
      ]
    },
    {
      "cell_type": "code",
      "execution_count": null,
      "metadata": {
        "id": "vIh-sHFa1Cq-"
      },
      "outputs": [],
      "source": []
    },
    {
      "cell_type": "markdown",
      "metadata": {
        "id": "DQHasA_s1DMI"
      },
      "source": [
        "### 모델 학습 진행"
      ]
    },
    {
      "cell_type": "code",
      "execution_count": null,
      "metadata": {
        "id": "ztop9UVfXjxq"
      },
      "outputs": [],
      "source": [
        "def get_metrics(y_label, y_pred):\n",
        "    # metrics\n",
        "    auc = roc_auc_score(y_label, y_pred) # AUC \n",
        "    auprc = average_precision_score(y_label, y_pred) # Average Precision\n",
        "    f1 = f1_score(y_label, outputs) # F1 score\n",
        "    lloss = log_loss(y_label, outputs) # cross-entropy loss \n",
        "\n",
        "    return auc, auprc, f1, lloss"
      ]
    },
    {
      "cell_type": "code",
      "execution_count": null,
      "metadata": {
        "colab": {
          "base_uri": "https://localhost:8080/"
        },
        "id": "qEk42F_RwAx6",
        "outputId": "e3da53c6-5bd1-4a8e-fb6c-b045502d1842"
      },
      "outputs": [
        {
          "name": "stdout",
          "output_type": "stream",
          "text": [
            "--- Go for Training ---\n",
            "Validation at Epoch 1, AUROC: 0.79061 , AUPRC: 0.35489 , F1: 0.25292 , Cross-entropy Loss: 3.66530\n"
          ]
        }
      ],
      "source": [
        "\n",
        "loss_history = [] \n",
        "\n",
        "max_auc = 0 # 최고 AUC 저장\n",
        "model_max = copy.deepcopy(model) # 최고 AUC 저장\n",
        "\n",
        "valid_metric_record = [] # 각 metrics 저장\n",
        "valid_metric_header = [\"# epoch\"] \n",
        "valid_metric_header.extend([\"AUROC\", \"AUPRC\", \"F1\"])\n",
        "\n",
        "table = PrettyTable(valid_metric_header)\n",
        "\n",
        "float2str = lambda x:'%0.4f'%x  # float 자료 형 str로 만들기 (소숫점 4자리까지)\n",
        "\n",
        "print('--- Go for Training ---')\n",
        "t_start = time() \n",
        "\n",
        "\n",
        "for epoch in range(train_epoch):\n",
        "    # Training\n",
        "    model.train() \n",
        "\n",
        "    for i, (v_d, v_p, label) in enumerate(training_generator):\n",
        "        v_d = v_d.to(device) \n",
        "        v_p = v_p.float().to(device) \n",
        "        \n",
        "        \n",
        "        # 순전파 (forward-pass)\n",
        "        score = model(v_d, v_p)\n",
        "        label = Variable(torch.from_numpy(np.array(label)).float()).to(device) # label numpy -> torch tensor\n",
        "        \n",
        "        # 모델 아웃풋 score -> probability\n",
        "        n = torch.squeeze(sigmoid(score), 1)\n",
        "        \n",
        "        # 손실 값(loss) 계산\n",
        "        loss = loss_fct(n, label)            \n",
        "        loss_history.append(loss.item()) # loss 기록\n",
        "\n",
        "        opt.zero_grad() # gradient 초기화\n",
        "        loss.backward() # back propagation\n",
        "        opt.step() # parameter 업데이트\n",
        "\n",
        "    # Validation\n",
        "    model.eval()\n",
        "    with torch.set_grad_enabled(False):\n",
        "        y_pred = []\n",
        "        y_label = []\n",
        "\n",
        "        for i, (v_d, v_p, label) in enumerate(valid_generator):\n",
        "            v_d = v_d.to(device) \n",
        "            v_p = v_p.float().to(device) \n",
        "            \n",
        "\n",
        "            # 순전파 (forward-pass)\n",
        "            score = model(v_d, v_p)\n",
        "            \n",
        "            logits = torch.squeeze(sigmoid(score)).detach().cpu().numpy() # 예측 확률\n",
        "            label_ids = label.to('cpu').numpy() # 참 값 \n",
        "\n",
        "            y_label = y_label + label_ids.flatten().tolist()\n",
        "            y_pred = y_pred + logits.flatten().tolist() \n",
        "\n",
        "    # 예측 값 \n",
        "    outputs = np.asarray([1 if i else 0 for i in (np.asarray(y_pred) >= 0.5)]) \n",
        "\n",
        "    # model evaluation\n",
        "    auc, auprc, f1, lloss = get_metrics(y_label, y_pred)\n",
        "\n",
        "    lst = [\"epoch \" + str(epoch)] + list(map(float2str,[auc, auprc, f1]))\n",
        "    valid_metric_record.append(lst)\n",
        "\n",
        "    if auc > max_auc:\n",
        "        # 이전 epoch 보다 AUC 좋아지면 model_max, max_auc 갱신\n",
        "        model_max = copy.deepcopy(model)\n",
        "        max_auc = auc   \n",
        "\n",
        "    print('Validation at Epoch '+ str(epoch + 1) + ', AUROC: ' + str(auc)[:7] + \\\n",
        "            ' , AUPRC: ' + str(auprc)[:7] + ' , F1: '+str(f1)[:7] + ' , Cross-entropy Loss: ' + \\\n",
        "            str(lloss)[:7])\n",
        "    \n",
        "    \n",
        "    table.add_row(lst)\n",
        "\n"
      ]
    },
    {
      "cell_type": "code",
      "execution_count": null,
      "metadata": {
        "id": "0fFtEVzlNWW6"
      },
      "outputs": [],
      "source": []
    },
    {
      "cell_type": "markdown",
      "metadata": {
        "id": "Ua-OmeDU08x2"
      },
      "source": [
        "# 모델 테스트 (Test)"
      ]
    },
    {
      "cell_type": "code",
      "execution_count": null,
      "metadata": {
        "id": "8tJwvINQNq53"
      },
      "outputs": [],
      "source": [
        "\n",
        "model.eval()\n",
        "\n",
        "y_pred = []\n",
        "y_label = []\n",
        "y_outputs = []\n",
        "\n",
        "for i, (v_d, v_p, label) in enumerate(test_generator):\n",
        "    v_d = v_d.to(device) \n",
        "    v_p = v_p.float().to(device) \n",
        "    \n",
        "    \n",
        "    # 순전파(forward-pass)\n",
        "    score = model(v_d, v_p) \n",
        "    logits = torch.squeeze(sigmoid(score)).detach().cpu().numpy()\n",
        "\n",
        "    label_ids = label.to('cpu').numpy()\n",
        "    y_label = y_label + label_ids.flatten().tolist()\n",
        "    y_pred = y_pred + logits.flatten().tolist()\n",
        "    outputs = np.asarray([1 if i else 0 for i in (np.asarray(y_pred) >= 0.5)])\n",
        "\n",
        "    y_outputs.append(outputs)\n",
        "\n",
        "    "
      ]
    },
    {
      "cell_type": "code",
      "execution_count": null,
      "metadata": {
        "colab": {
          "base_uri": "https://localhost:8080/"
        },
        "id": "ocrk9Qdkq7wy",
        "outputId": "ee8a2a74-a78c-4f8f-c217-aab8085d1462"
      },
      "outputs": [
        {
          "name": "stdout",
          "output_type": "stream",
          "text": [
            "Test result - , AUROC: 0.79652 , AUPRC: 0.37120 , F1: 0.22863 , Cross-entropy Loss: tensor(\n"
          ]
        }
      ],
      "source": [
        "# model evaluation\n",
        "auc, auprc, f1, lloss = get_metrics(y_label, y_pred)\n",
        "\n",
        "print('Test result - ' + ', AUROC: ' + str(auc)[:7] + ' , AUPRC: ' + str(auprc)[:7] + ' , F1: '+str(f1)[:7] + ' , Cross-entropy Loss: ' + str(loss)[:7])"
      ]
    },
    {
      "cell_type": "code",
      "execution_count": null,
      "metadata": {
        "id": "SRS5_0m_sX4e"
      },
      "outputs": [],
      "source": []
    },
    {
      "cell_type": "markdown",
      "metadata": {
        "id": "9dDMWkWJZgEF"
      },
      "source": [
        "# 결과 시각화"
      ]
    },
    {
      "cell_type": "code",
      "execution_count": null,
      "metadata": {
        "id": "i5zmCAcmsIxK"
      },
      "outputs": [],
      "source": [
        "def roc_curve(y_pred, y_label, figure_file, method_name):\n",
        "\t'''ROC 커브 그리기\n",
        "\n",
        "\tArgs:\n",
        "\t\ty_pred: 예측 확률 값이 담긴 리스트 [0,1]\n",
        "\t\ty_label: 참 값 (0/1)\n",
        "\t'''\n",
        "\n",
        "\timport matplotlib.pyplot as plt\n",
        "\tfrom sklearn.metrics import roc_curve, auc\n",
        "\tfrom sklearn.metrics import roc_auc_score\n",
        "\n",
        "\ty_label = np.array(y_label)\n",
        "\ty_pred = np.array(y_pred)\t\n",
        " \n",
        "\tfpr = dict()\n",
        "\ttpr = dict() \n",
        "\troc_auc = dict()\n",
        " \n",
        "\tfpr[0], tpr[0], _ = roc_curve(y_label, y_pred) # FPR / TPR 구하기\n",
        "\troc_auc[0] = auc(fpr[0], tpr[0]) # AUC 구하기\n",
        "\t\n",
        "\t# ROC 커브 그리기\n",
        "\tlw = 2\n",
        "\tplt.plot(fpr[0], tpr[0],\n",
        "         lw=lw, label= method_name + ' (area = %0.2f)' % roc_auc[0])\n",
        "\tplt.plot([0, 1], [0, 1], color='navy', lw=lw, linestyle='--')\n",
        "\tplt.xlim([0.0, 1.0])\n",
        "\tplt.ylim([0.0, 1.05])\n",
        "\tfontsize = 14\n",
        "\tplt.xlabel('False Positive Rate', fontsize = fontsize)\n",
        "\tplt.ylabel('True Positive Rate', fontsize = fontsize)\n",
        "\tplt.title('Receiver Operating Characteristic Curve')\n",
        "\tplt.legend(loc=\"lower right\")\n",
        "\tplt.savefig(figure_file)\n",
        " \n",
        "\n",
        "def prauc_curve(y_pred, y_label, figure_file, method_name):\n",
        "\t'''Precision-Recall 커브 그리기\n",
        "\t\n",
        "\tArgs:\n",
        "\t\ty_pred: 예측 확률 값이 담긴 리스트 [0,1]\n",
        "\t\ty_label: 참 값 (0/1)\n",
        "\t'''\n",
        "\timport matplotlib.pyplot as plt\n",
        "\tfrom sklearn.metrics import precision_recall_curve, average_precision_score\n",
        "\tfrom sklearn.metrics import f1_score\n",
        "\tfrom sklearn.metrics import auc\n",
        "\n",
        "\tlr_precision, lr_recall, _ = precision_recall_curve(y_label, y_pred) # precision, recall 구하기\n",
        "\t\n",
        "\t# 커브 그리기\n",
        "\tplt.plot(lr_recall, lr_precision, lw = 2, label= method_name + ' (area = %0.2f)' % average_precision_score(y_label, y_pred))\n",
        "\tfontsize = 14\n",
        "\tplt.xlabel('Recall', fontsize = fontsize)\n",
        "\tplt.ylabel('Precision', fontsize = fontsize)\n",
        "\tplt.title('Precision Recall Curve')\n",
        "\tplt.legend()\n",
        "\tplt.savefig(figure_file)\n"
      ]
    },
    {
      "cell_type": "code",
      "execution_count": null,
      "metadata": {
        "colab": {
          "base_uri": "https://localhost:8080/",
          "height": 299
        },
        "id": "eN-o2w8xsIzZ",
        "outputId": "8a70b979-7389-4061-c69d-2408636d24c4"
      },
      "outputs": [
        {
          "data": {
            "image/png": "[encoded data removed]",
            "text/plain": [
              "<Figure size 432x288 with 1 Axes>"
            ]
          },
          "metadata": {
            "needs_background": "light"
          },
          "output_type": "display_data"
        }
      ],
      "source": [
        "roc_curve(y_pred, y_label, \"DTI.png\", \"DTI\")"
      ]
    },
    {
      "cell_type": "code",
      "execution_count": null,
      "metadata": {
        "colab": {
          "base_uri": "https://localhost:8080/",
          "height": 299
        },
        "id": "3wdAAkXgsI1y",
        "outputId": "67538b07-3a73-4f5c-a108-12f7cd05369c"
      },
      "outputs": [
        {
          "data": {
            "image/png": "[encoded data removed]",
            "text/plain": [
              "<Figure size 432x288 with 1 Axes>"
            ]
          },
          "metadata": {
            "needs_background": "light"
          },
          "output_type": "display_data"
        }
      ],
      "source": [
        "prauc_curve(y_pred, y_label, \"DTI.png\", \"DTI\")"
      ]
    },
    {
      "cell_type": "code",
      "execution_count": null,
      "metadata": {
        "id": "GG-7MdUQsI4d"
      },
      "outputs": [],
      "source": []
    },
    {
      "cell_type": "markdown",
      "metadata": {
        "id": "lTuevEwxlEPR"
      },
      "source": [
        "# ."
      ]
    }
  ],
  "metadata": {
    "colab": {
      "provenance": [],
      "include_colab_link": true
    },
    "kernelspec": {
      "display_name": "Python 3",
      "name": "python3"
    },
    "language_info": {
      "name": "python"
    },
    "gpuClass": "standard"
  },
  "nbformat": 4,
  "nbformat_minor": 0
}
